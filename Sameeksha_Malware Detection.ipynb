{
 "cells": [
  {
   "cell_type": "code",
   "execution_count": 5,
   "metadata": {},
   "outputs": [
    {
     "name": "stdout",
     "output_type": "stream",
     "text": [
      "The shape of the legit dataset is : 41323 samples, 56 features\n",
      "The shape of the malware dataset is: 96724 samples, 56 features\n"
     ]
    }
   ],
   "source": [
    "import pandas as pd\n",
    "malData=pd.read_csv(r'C:\\Users\\Muskan Daruka\\Desktop\\MalwareData.csv.gz',sep='|')\n",
    "legit=malData[0:41323].drop([\"legitimate\"],axis=1)\n",
    "mal=malData[41323::].drop([\"legitimate\"],axis=1)\n",
    "print(\"The shape of the legit dataset is : %s samples, %s features\"%(legit.shape[0],legit.shape[1]))\n",
    "print(\"The shape of the malware dataset is: %s samples, %s features\"%(mal.shape[0],mal.shape[1]))"
   ]
  },
  {
   "cell_type": "code",
   "execution_count": 6,
   "metadata": {},
   "outputs": [
    {
     "name": "stdout",
     "output_type": "stream",
     "text": [
      "Index(['Name', 'md5', 'Machine', 'SizeOfOptionalHeader', 'Characteristics',\n",
      "       'MajorLinkerVersion', 'MinorLinkerVersion', 'SizeOfCode',\n",
      "       'SizeOfInitializedData', 'SizeOfUninitializedData',\n",
      "       'AddressOfEntryPoint', 'BaseOfCode', 'BaseOfData', 'ImageBase',\n",
      "       'SectionAlignment', 'FileAlignment', 'MajorOperatingSystemVersion',\n",
      "       'MinorOperatingSystemVersion', 'MajorImageVersion', 'MinorImageVersion',\n",
      "       'MajorSubsystemVersion', 'MinorSubsystemVersion', 'SizeOfImage',\n",
      "       'SizeOfHeaders', 'CheckSum', 'Subsystem', 'DllCharacteristics',\n",
      "       'SizeOfStackReserve', 'SizeOfStackCommit', 'SizeOfHeapReserve',\n",
      "       'SizeOfHeapCommit', 'LoaderFlags', 'NumberOfRvaAndSizes', 'SectionsNb',\n",
      "       'SectionsMeanEntropy', 'SectionsMinEntropy', 'SectionsMaxEntropy',\n",
      "       'SectionsMeanRawsize', 'SectionsMinRawsize', 'SectionMaxRawsize',\n",
      "       'SectionsMeanVirtualsize', 'SectionsMinVirtualsize',\n",
      "       'SectionMaxVirtualsize', 'ImportsNbDLL', 'ImportsNb',\n",
      "       'ImportsNbOrdinal', 'ExportNb', 'ResourcesNb', 'ResourcesMeanEntropy',\n",
      "       'ResourcesMinEntropy', 'ResourcesMaxEntropy', 'ResourcesMeanSize',\n",
      "       'ResourcesMinSize', 'ResourcesMaxSize', 'LoadConfigurationSize',\n",
      "       'VersionInformationSize', 'legitimate'],\n",
      "      dtype='object')\n"
     ]
    }
   ],
   "source": [
    "print(malData.columns)"
   ]
  },
  {
   "cell_type": "code",
   "execution_count": 7,
   "metadata": {},
   "outputs": [
    {
     "name": "stdout",
     "output_type": "stream",
     "text": [
      "           Name                               md5  Machine  \\\n",
      "0   memtest.exe  631ea355665f28d4707448e442fbf5b8      332   \n",
      "1       ose.exe  9d10f99a6712e28f8acd5641e3a7ea6b      332   \n",
      "2     setup.exe  4d92f518527353c0db88a70fddcfd390      332   \n",
      "3      DW20.EXE  a41e524f8d45f0074fd07805ff0c9b12      332   \n",
      "4  dwtrig20.exe  c87e561258f2f8650cef999bf643a731      332   \n",
      "\n",
      "   SizeOfOptionalHeader  Characteristics  MajorLinkerVersion  \\\n",
      "0                   224              258                   9   \n",
      "1                   224             3330                   9   \n",
      "2                   224             3330                   9   \n",
      "3                   224              258                   9   \n",
      "4                   224              258                   9   \n",
      "\n",
      "   MinorLinkerVersion  SizeOfCode  SizeOfInitializedData  \\\n",
      "0                   0      361984                 115712   \n",
      "1                   0      130560                  19968   \n",
      "2                   0      517120                 621568   \n",
      "3                   0      585728                 369152   \n",
      "4                   0      294912                 247296   \n",
      "\n",
      "   SizeOfUninitializedData  ...  ResourcesNb  ResourcesMeanEntropy  \\\n",
      "0                        0  ...            4              3.262823   \n",
      "1                        0  ...            2              4.250461   \n",
      "2                        0  ...           11              4.426324   \n",
      "3                        0  ...           10              4.364291   \n",
      "4                        0  ...            2              4.306100   \n",
      "\n",
      "   ResourcesMinEntropy  ResourcesMaxEntropy  ResourcesMeanSize  \\\n",
      "0             2.568844             3.537939        8797.000000   \n",
      "1             3.420744             5.080177         837.000000   \n",
      "2             2.846449             5.271813       31102.272727   \n",
      "3             2.669314             6.400720        1457.000000   \n",
      "4             3.421598             5.190603        1074.500000   \n",
      "\n",
      "   ResourcesMinSize  ResourcesMaxSize  LoadConfigurationSize  \\\n",
      "0               216             18032                      0   \n",
      "1               518              1156                     72   \n",
      "2               104            270376                     72   \n",
      "3                90              4264                     72   \n",
      "4               849              1300                     72   \n",
      "\n",
      "   VersionInformationSize  legitimate  \n",
      "0                      16           1  \n",
      "1                      18           1  \n",
      "2                      18           1  \n",
      "3                      18           1  \n",
      "4                      18           1  \n",
      "\n",
      "[5 rows x 57 columns]\n"
     ]
    }
   ],
   "source": [
    "print(malData.head(5))"
   ]
  },
  {
   "cell_type": "code",
   "execution_count": 9,
   "metadata": {},
   "outputs": [],
   "source": [
    "pd.set_option(\"display.max_columns\",None)"
   ]
  },
  {
   "cell_type": "code",
   "execution_count": 10,
   "metadata": {},
   "outputs": [
    {
     "name": "stdout",
     "output_type": "stream",
     "text": [
      "           Name                               md5  Machine  \\\n",
      "0   memtest.exe  631ea355665f28d4707448e442fbf5b8      332   \n",
      "1       ose.exe  9d10f99a6712e28f8acd5641e3a7ea6b      332   \n",
      "2     setup.exe  4d92f518527353c0db88a70fddcfd390      332   \n",
      "3      DW20.EXE  a41e524f8d45f0074fd07805ff0c9b12      332   \n",
      "4  dwtrig20.exe  c87e561258f2f8650cef999bf643a731      332   \n",
      "\n",
      "   SizeOfOptionalHeader  Characteristics  MajorLinkerVersion  \\\n",
      "0                   224              258                   9   \n",
      "1                   224             3330                   9   \n",
      "2                   224             3330                   9   \n",
      "3                   224              258                   9   \n",
      "4                   224              258                   9   \n",
      "\n",
      "   MinorLinkerVersion  SizeOfCode  SizeOfInitializedData  \\\n",
      "0                   0      361984                 115712   \n",
      "1                   0      130560                  19968   \n",
      "2                   0      517120                 621568   \n",
      "3                   0      585728                 369152   \n",
      "4                   0      294912                 247296   \n",
      "\n",
      "   SizeOfUninitializedData  AddressOfEntryPoint  BaseOfCode  BaseOfData  \\\n",
      "0                        0                 6135        4096      372736   \n",
      "1                        0                81778        4096      143360   \n",
      "2                        0               350896        4096      811008   \n",
      "3                        0               451258        4096      798720   \n",
      "4                        0               217381        4096      536576   \n",
      "\n",
      "     ImageBase  SectionAlignment  FileAlignment  MajorOperatingSystemVersion  \\\n",
      "0    4194304.0              4096            512                            0   \n",
      "1  771751936.0              4096            512                            5   \n",
      "2  771751936.0              4096            512                            5   \n",
      "3  771751936.0              4096            512                            5   \n",
      "4  771751936.0              4096            512                            5   \n",
      "\n",
      "   MinorOperatingSystemVersion  MajorImageVersion  MinorImageVersion  \\\n",
      "0                            0                  0                  0   \n",
      "1                            1                  0                  0   \n",
      "2                            1                  0                  0   \n",
      "3                            1                  0                  0   \n",
      "4                            1                  0                  0   \n",
      "\n",
      "   MajorSubsystemVersion  MinorSubsystemVersion  SizeOfImage  SizeOfHeaders  \\\n",
      "0                      1                      0      1036288           1024   \n",
      "1                      5                      1       159744           1024   \n",
      "2                      5                      1      1150976           1024   \n",
      "3                      5                      1       962560           1024   \n",
      "4                      5                      1       552960           1024   \n",
      "\n",
      "   CheckSum  Subsystem  DllCharacteristics  SizeOfStackReserve  \\\n",
      "0    485887         16                1024             1048576   \n",
      "1    188943          2               33088             1048576   \n",
      "2   1159817          2               32832             1048576   \n",
      "3    867570          2               33088             1048576   \n",
      "4    579287          2               33088             1048576   \n",
      "\n",
      "   SizeOfStackCommit  SizeOfHeapReserve  SizeOfHeapCommit  LoaderFlags  \\\n",
      "0               4096            1048576              4096            0   \n",
      "1               4096            1048576              4096            0   \n",
      "2               4096            1048576              4096            0   \n",
      "3               4096            1048576              4096            0   \n",
      "4               4096            1048576              4096            0   \n",
      "\n",
      "   NumberOfRvaAndSizes  SectionsNb  SectionsMeanEntropy  SectionsMinEntropy  \\\n",
      "0                   16           8             5.766807            3.607430   \n",
      "1                   16           4             4.839688            2.373525   \n",
      "2                   16           4             6.409558            4.885191   \n",
      "3                   16           4             6.641731            5.642565   \n",
      "4                   16           4             6.252684            4.182282   \n",
      "\n",
      "   SectionsMaxEntropy  SectionsMeanRawsize  SectionsMinRawsize  \\\n",
      "0            7.221051              59712.0                1024   \n",
      "1            6.566909              35584.0                2048   \n",
      "2            7.600957             273408.0               21504   \n",
      "3            7.594929             207872.0               15360   \n",
      "4            7.608305             128128.0                2560   \n",
      "\n",
      "   SectionMaxRawsize  SectionsMeanVirtualsize  SectionsMinVirtualsize  \\\n",
      "0             325120               126875.875                     896   \n",
      "1             130560                37322.000                    1840   \n",
      "2             517120               284498.000                   21456   \n",
      "3             585728               238502.000                   15208   \n",
      "4             294912               135350.000                    2320   \n",
      "\n",
      "   SectionMaxVirtualsize  ImportsNbDLL  ImportsNb  ImportsNbOrdinal  ExportNb  \\\n",
      "0                 551848             0          0                 0         0   \n",
      "1                 130296             7        181                 0         0   \n",
      "2                 516760            14        235                21         1   \n",
      "3                 585488            15        360                 6         1   \n",
      "4                 294816            10        194                 4         1   \n",
      "\n",
      "   ResourcesNb  ResourcesMeanEntropy  ResourcesMinEntropy  \\\n",
      "0            4              3.262823             2.568844   \n",
      "1            2              4.250461             3.420744   \n",
      "2           11              4.426324             2.846449   \n",
      "3           10              4.364291             2.669314   \n",
      "4            2              4.306100             3.421598   \n",
      "\n",
      "   ResourcesMaxEntropy  ResourcesMeanSize  ResourcesMinSize  ResourcesMaxSize  \\\n",
      "0             3.537939        8797.000000               216             18032   \n",
      "1             5.080177         837.000000               518              1156   \n",
      "2             5.271813       31102.272727               104            270376   \n",
      "3             6.400720        1457.000000                90              4264   \n",
      "4             5.190603        1074.500000               849              1300   \n",
      "\n",
      "   LoadConfigurationSize  VersionInformationSize  legitimate  \n",
      "0                      0                      16           1  \n",
      "1                     72                      18           1  \n",
      "2                     72                      18           1  \n",
      "3                     72                      18           1  \n",
      "4                     72                      18           1  \n"
     ]
    }
   ],
   "source": [
    "print(malData.head(5))"
   ]
  },
  {
   "cell_type": "code",
   "execution_count": 11,
   "metadata": {},
   "outputs": [
    {
     "name": "stdout",
     "output_type": "stream",
     "text": [
      "      Name                               md5  Machine  SizeOfOptionalHeader  \\\n",
      "1  ose.exe  9d10f99a6712e28f8acd5641e3a7ea6b      332                   224   \n",
      "\n",
      "   Characteristics  MajorLinkerVersion  MinorLinkerVersion  SizeOfCode  \\\n",
      "1             3330                   9                   0      130560   \n",
      "\n",
      "   SizeOfInitializedData  SizeOfUninitializedData  AddressOfEntryPoint  \\\n",
      "1                  19968                        0                81778   \n",
      "\n",
      "   BaseOfCode  BaseOfData    ImageBase  SectionAlignment  FileAlignment  \\\n",
      "1        4096      143360  771751936.0              4096            512   \n",
      "\n",
      "   MajorOperatingSystemVersion  MinorOperatingSystemVersion  \\\n",
      "1                            5                            1   \n",
      "\n",
      "   MajorImageVersion  MinorImageVersion  MajorSubsystemVersion  \\\n",
      "1                  0                  0                      5   \n",
      "\n",
      "   MinorSubsystemVersion  SizeOfImage  SizeOfHeaders  CheckSum  Subsystem  \\\n",
      "1                      1       159744           1024    188943          2   \n",
      "\n",
      "   DllCharacteristics  SizeOfStackReserve  SizeOfStackCommit  \\\n",
      "1               33088             1048576               4096   \n",
      "\n",
      "   SizeOfHeapReserve  SizeOfHeapCommit  LoaderFlags  NumberOfRvaAndSizes  \\\n",
      "1            1048576              4096            0                   16   \n",
      "\n",
      "   SectionsNb  SectionsMeanEntropy  SectionsMinEntropy  SectionsMaxEntropy  \\\n",
      "1           4             4.839688            2.373525            6.566909   \n",
      "\n",
      "   SectionsMeanRawsize  SectionsMinRawsize  SectionMaxRawsize  \\\n",
      "1              35584.0                2048             130560   \n",
      "\n",
      "   SectionsMeanVirtualsize  SectionsMinVirtualsize  SectionMaxVirtualsize  \\\n",
      "1                  37322.0                    1840                 130296   \n",
      "\n",
      "   ImportsNbDLL  ImportsNb  ImportsNbOrdinal  ExportNb  ResourcesNb  \\\n",
      "1             7        181                 0         0            2   \n",
      "\n",
      "   ResourcesMeanEntropy  ResourcesMinEntropy  ResourcesMaxEntropy  \\\n",
      "1              4.250461             3.420744             5.080177   \n",
      "\n",
      "   ResourcesMeanSize  ResourcesMinSize  ResourcesMaxSize  \\\n",
      "1              837.0               518              1156   \n",
      "\n",
      "   LoadConfigurationSize  VersionInformationSize  \n",
      "1                     72                      18  \n"
     ]
    }
   ],
   "source": [
    "print(legit.take([1]))"
   ]
  },
  {
   "cell_type": "code",
   "execution_count": 12,
   "metadata": {},
   "outputs": [
    {
     "name": "stdout",
     "output_type": "stream",
     "text": [
      "                                              Name  \\\n",
      "41324  VirusShare_9bd57c8252948bd2fa651ad372bd4f13   \n",
      "\n",
      "                                    md5  Machine  SizeOfOptionalHeader  \\\n",
      "41324  9bd57c8252948bd2fa651ad372bd4f13      332                   224   \n",
      "\n",
      "       Characteristics  MajorLinkerVersion  MinorLinkerVersion  SizeOfCode  \\\n",
      "41324              271                   6                   0       24064   \n",
      "\n",
      "       SizeOfInitializedData  SizeOfUninitializedData  AddressOfEntryPoint  \\\n",
      "41324                 164864                     1024                12538   \n",
      "\n",
      "       BaseOfCode  BaseOfData  ImageBase  SectionAlignment  FileAlignment  \\\n",
      "41324        4096       28672  4194304.0              4096            512   \n",
      "\n",
      "       MajorOperatingSystemVersion  MinorOperatingSystemVersion  \\\n",
      "41324                            4                            0   \n",
      "\n",
      "       MajorImageVersion  MinorImageVersion  MajorSubsystemVersion  \\\n",
      "41324                  6                  0                      4   \n",
      "\n",
      "       MinorSubsystemVersion  SizeOfImage  SizeOfHeaders  CheckSum  Subsystem  \\\n",
      "41324                      0       241664           1024         0          2   \n",
      "\n",
      "       DllCharacteristics  SizeOfStackReserve  SizeOfStackCommit  \\\n",
      "41324               32768             1048576               4096   \n",
      "\n",
      "       SizeOfHeapReserve  SizeOfHeapCommit  LoaderFlags  NumberOfRvaAndSizes  \\\n",
      "41324            1048576              4096            0                   16   \n",
      "\n",
      "       SectionsNb  SectionsMeanEntropy  SectionsMinEntropy  \\\n",
      "41324           5             4.104541                 0.0   \n",
      "\n",
      "       SectionsMaxEntropy  SectionsMeanRawsize  SectionsMinRawsize  \\\n",
      "41324            6.440106               6758.4                   0   \n",
      "\n",
      "       SectionMaxRawsize  SectionsMeanVirtualsize  SectionsMinVirtualsize  \\\n",
      "41324              24064                  46260.8                    3144   \n",
      "\n",
      "       SectionMaxVirtualsize  ImportsNbDLL  ImportsNb  ImportsNbOrdinal  \\\n",
      "41324                 154712             8        155                 1   \n",
      "\n",
      "       ExportNb  ResourcesNb  ResourcesMeanEntropy  ResourcesMinEntropy  \\\n",
      "41324         0            6              3.199107             1.971335   \n",
      "\n",
      "       ResourcesMaxEntropy  ResourcesMeanSize  ResourcesMinSize  \\\n",
      "41324             5.214816              452.0                34   \n",
      "\n",
      "       ResourcesMaxSize  LoadConfigurationSize  VersionInformationSize  \n",
      "41324               958                      0                      15  \n"
     ]
    }
   ],
   "source": [
    "print(mal.take([1]))"
   ]
  },
  {
   "cell_type": "code",
   "execution_count": 27,
   "metadata": {},
   "outputs": [],
   "source": [
    "import sklearn\n",
    "import matplotlib.pyplot as plt\n",
    "from sklearn.ensemble import ExtraTreesClassifier\n",
    "from sklearn.model_selection import train_test_split\n",
    "from sklearn.model_selection import cross_validate"
   ]
  },
  {
   "cell_type": "code",
   "execution_count": 28,
   "metadata": {},
   "outputs": [
    {
     "name": "stdout",
     "output_type": "stream",
     "text": [
      "(138047, 54) (138047, 14)\n"
     ]
    }
   ],
   "source": [
    "data_in=malData.drop(['Name','md5','legitimate'],axis=1).values\n",
    "labels=malData['legitimate'].values\n",
    "extratrees=ExtraTreesClassifier().fit(data_in,labels)\n",
    "select=SelectFromModel(extratrees,prefit=True)\n",
    "data_in_new=select.transform(data_in)\n",
    "print(data_in.shape,data_in_new.shape)"
   ]
  },
  {
   "cell_type": "code",
   "execution_count": 29,
   "metadata": {},
   "outputs": [
    {
     "name": "stdout",
     "output_type": "stream",
     "text": [
      "1 DllCharacteristics 0.14173992378347625\n",
      "2 Machine 0.10829671449174151\n",
      "3 Characteristics 0.09780593037472529\n",
      "4 SectionsMaxEntropy 0.066730072677555\n",
      "5 VersionInformationSize 0.0662350767806889\n",
      "6 ImageBase 0.060905767454075346\n",
      "7 Subsystem 0.05694899797752667\n",
      "8 MajorSubsystemVersion 0.05448270053033839\n",
      "9 ResourcesMaxEntropy 0.048955801280193965\n",
      "10 SizeOfOptionalHeader 0.042193101925319804\n",
      "11 ResourcesMinEntropy 0.023698707279211927\n",
      "12 SectionsMeanEntropy 0.022033267267174566\n",
      "13 MajorOperatingSystemVersion 0.021991350192109925\n",
      "14 SectionsMinEntropy 0.019301437171387933\n"
     ]
    }
   ],
   "source": [
    "import numpy as np\n",
    "features=data_in_new.shape[1]\n",
    "importances=extratrees.feature_importances_\n",
    "indices=np.argsort(importances)[::-1]\n",
    "for f in range(features):\n",
    "    print(\"%d\"%(f+1),malData.columns[2+indices[f]],importances[indices[f]])"
   ]
  },
  {
   "cell_type": "code",
   "execution_count": 35,
   "metadata": {},
   "outputs": [
    {
     "data": {
      "text/plain": [
       "RandomForestClassifier(n_estimators=50)"
      ]
     },
     "execution_count": 35,
     "metadata": {},
     "output_type": "execute_result"
    }
   ],
   "source": [
    "from sklearn.ensemble import RandomForestClassifier\n",
    "legit_train,legit_test,mal_train,mal_test=train_test_split(data_in_new,labels,test_size=0.2)\n",
    "classif=RandomForestClassifier(n_estimators=50)\n",
    "\n",
    "classif.fit(legit_train,mal_train)"
   ]
  },
  {
   "cell_type": "code",
   "execution_count": 36,
   "metadata": {},
   "outputs": [
    {
     "name": "stdout",
     "output_type": "stream",
     "text": [
      "The score of the algorithm:  99.37341542919232\n"
     ]
    }
   ],
   "source": [
    "print(\"The score of the algorithm: \",classif.score(legit_test,mal_test)*100)"
   ]
  },
  {
   "cell_type": "code",
   "execution_count": 38,
   "metadata": {},
   "outputs": [],
   "source": [
    "from sklearn.metrics import confusion_matrix\n",
    "result=classif.predict(legit_test)\n",
    "conf_mat=confusion_matrix(mal_test,result)"
   ]
  },
  {
   "cell_type": "code",
   "execution_count": 39,
   "metadata": {},
   "outputs": [
    {
     "data": {
      "text/plain": [
       "(2, 2)"
      ]
     },
     "execution_count": 39,
     "metadata": {},
     "output_type": "execute_result"
    }
   ],
   "source": [
    "conf_mat.shape"
   ]
  },
  {
   "cell_type": "code",
   "execution_count": 40,
   "metadata": {},
   "outputs": [
    {
     "data": {
      "text/plain": [
       "numpy.ndarray"
      ]
     },
     "execution_count": 40,
     "metadata": {},
     "output_type": "execute_result"
    }
   ],
   "source": [
    "type(conf_mat)"
   ]
  },
  {
   "cell_type": "code",
   "execution_count": 41,
   "metadata": {},
   "outputs": [
    {
     "data": {
      "text/plain": [
       "array([[19290,    79],\n",
       "       [   94,  8147]], dtype=int64)"
      ]
     },
     "execution_count": 41,
     "metadata": {},
     "output_type": "execute_result"
    }
   ],
   "source": [
    "conf_mat"
   ]
  },
  {
   "cell_type": "code",
   "execution_count": 43,
   "metadata": {},
   "outputs": [
    {
     "name": "stdout",
     "output_type": "stream",
     "text": [
      "False positives:  0.40786824306882136\n",
      "False negatives:  1.1406382720543622\n"
     ]
    }
   ],
   "source": [
    "print(\"False positives: \",conf_mat[0][1]/sum(conf_mat[0])*100)\n",
    "print(\"False negatives: \",conf_mat[1][0]/sum(conf_mat[1])*100)"
   ]
  },
  {
   "cell_type": "code",
   "execution_count": 45,
   "metadata": {},
   "outputs": [
    {
     "data": {
      "text/plain": [
       "GradientBoostingClassifier(n_estimators=50)"
      ]
     },
     "execution_count": 45,
     "metadata": {},
     "output_type": "execute_result"
    }
   ],
   "source": [
    "from sklearn.ensemble import GradientBoostingClassifier\n",
    "\n",
    "grad_boost=GradientBoostingClassifier(n_estimators=50)\n",
    "grad_boost.fit(legit_train,mal_train)"
   ]
  },
  {
   "cell_type": "code",
   "execution_count": 46,
   "metadata": {},
   "outputs": [
    {
     "name": "stdout",
     "output_type": "stream",
     "text": [
      "The score of the Gradient Boosting Classifier is:  98.78304961970301\n"
     ]
    }
   ],
   "source": [
    "print(\"The score of the Gradient Boosting Classifier is: \",grad_boost.score(legit_test,mal_test)*100)"
   ]
  },
  {
   "cell_type": "code",
   "execution_count": 47,
   "metadata": {},
   "outputs": [
    {
     "data": {
      "text/plain": [
       "KNeighborsClassifier(n_neighbors=3)"
      ]
     },
     "execution_count": 47,
     "metadata": {},
     "output_type": "execute_result"
    }
   ],
   "source": [
    "from sklearn.neighbors import KNeighborsClassifier\n",
    "classifier = KNeighborsClassifier(n_neighbors = 3, metric = 'minkowski', p = 2)\n",
    "classifier.fit(legit_train, mal_train)"
   ]
  },
  {
   "cell_type": "code",
   "execution_count": 48,
   "metadata": {},
   "outputs": [],
   "source": [
    "mal_pred = classifier.predict(legit_test)"
   ]
  },
  {
   "cell_type": "code",
   "execution_count": 50,
   "metadata": {},
   "outputs": [
    {
     "name": "stdout",
     "output_type": "stream",
     "text": [
      "The score of the knn is:  98.98949655921767\n"
     ]
    }
   ],
   "source": [
    "print(\"The score of the knn is: \",classifier.score(legit_test,mal_test)*100)"
   ]
  },
  {
   "cell_type": "code",
   "execution_count": 53,
   "metadata": {},
   "outputs": [],
   "source": [
    "import matplotlib.pyplot as plt\n",
    "from sklearn.cluster import KMeans"
   ]
  },
  {
   "cell_type": "code",
   "execution_count": 86,
   "metadata": {},
   "outputs": [
    {
     "data": {
      "image/png": "[encoded data removed]",
      "text/plain": [
       "<Figure size 432x288 with 1 Axes>"
      ]
     },
     "metadata": {
      "needs_background": "light"
     },
     "output_type": "display_data"
    }
   ],
   "source": [
    "Error=[]\n",
    "for i in range(1,14):\n",
    "    kmeans=KMeans(n_clusters=i).fit(legit_train)\n",
    "    kmeans.fit(legit_train)\n",
    "    Error.append(kmeans.inertia_)\n",
    "import matplotlib.pyplot as plt\n",
    "plt.plot(range(1,14),Error)\n",
    "plt.title('Elbow method')\n",
    "plt.xlabel('No of clusters')\n",
    "plt.ylabel('Error')\n",
    "plt.show()"
   ]
  },
  {
   "cell_type": "code",
   "execution_count": 87,
   "metadata": {},
   "outputs": [
    {
     "name": "stdout",
     "output_type": "stream",
     "text": [
      "[0 0 0 ... 0 0 0]\n"
     ]
    }
   ],
   "source": [
    "kmeans2=KMeans(n_clusters=2)\n",
    "y_kmeans2=kmeans2.fit_predict(legit_train)\n",
    "print(y_kmeans2)"
   ]
  },
  {
   "cell_type": "code",
   "execution_count": 88,
   "metadata": {},
   "outputs": [
    {
     "data": {
      "text/plain": [
       "array([[3.32000000e+02, 2.24000000e+02, 8.45000000e+03, 2.68435456e+08,\n",
       "        5.00000000e+00, 5.00000000e+00, 3.00000000e+00, 1.08800000e+03,\n",
       "        3.66709496e+00, 1.57584549e+00, 5.75834442e+00, 2.25316420e+00,\n",
       "        5.98548225e+00, 1.80000000e+01],\n",
       "       [3.44040000e+04, 2.40000000e+02, 3.40000000e+01, 1.84467353e+19,\n",
       "        6.00000000e+00, 6.00000000e+00, 3.00000000e+00, 0.00000000e+00,\n",
       "        3.01210559e+00, 4.15426721e-01, 6.33985633e+00, 3.55582102e+00,\n",
       "        3.55582102e+00, 1.60000000e+01]])"
      ]
     },
     "execution_count": 88,
     "metadata": {},
     "output_type": "execute_result"
    }
   ],
   "source": [
    "kmeans2.cluster_centers_"
   ]
  },
  {
   "cell_type": "code",
   "execution_count": 89,
   "metadata": {},
   "outputs": [
    {
     "data": {
      "text/plain": [
       "<matplotlib.collections.PathCollection at 0x1fe3cd21700>"
      ]
     },
     "execution_count": 89,
     "metadata": {},
     "output_type": "execute_result"
    },
    {
     "data": {
      "image/png": "[encoded data removed]",
      "text/plain": [
       "<Figure size 432x288 with 1 Axes>"
      ]
     },
     "metadata": {
      "needs_background": "light"
     },
     "output_type": "display_data"
    }
   ],
   "source": [
    "plt.scatter(legit_train[:,0],legit_train[:,13],c=y_kmeans2,cmap='rainbow')"
   ]
  },
  {
   "cell_type": "code",
   "execution_count": null,
   "metadata": {},
   "outputs": [],
   "source": []
  }
 ],
 "metadata": {
  "kernelspec": {
   "display_name": "Python 3",
   "language": "python",
   "name": "python3"
  },
  "language_info": {
   "codemirror_mode": {
    "name": "ipython",
    "version": 3
   },
   "file_extension": ".py",
   "mimetype": "text/x-python",
   "name": "python",
   "nbconvert_exporter": "python",
   "pygments_lexer": "ipython3",
   "version": "3.8.5"
  }
 },
 "nbformat": 4,
 "nbformat_minor": 4
}
