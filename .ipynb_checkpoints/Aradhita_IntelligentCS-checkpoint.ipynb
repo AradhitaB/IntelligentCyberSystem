{
 "cells": [
  {
   "cell_type": "markdown",
   "metadata": {},
   "source": [
    "# Importing the data"
   ]
  },
  {
   "cell_type": "code",
   "execution_count": 1,
   "metadata": {},
   "outputs": [],
   "source": [
    "%matplotlib inline\n",
    "import numpy as np\n",
    "import pandas as pd\n",
    "from pandas.plotting import scatter_matrix\n",
    "from sklearn import metrics\n",
    "from sklearn.model_selection import StratifiedShuffleSplit\n",
    "from sklearn.model_selection import cross_val_score, RandomizedSearchCV, KFold\n",
    "from sklearn.ensemble import AdaBoostClassifier\n",
    "from sklearn.impute import SimpleImputer\n",
    "from sklearn.preprocessing import StandardScaler\n",
    "from sklearn.semi_supervised import LabelSpreading\n",
    "from sklearn.cluster import DBSCAN\n",
    "import matplotlib.pyplot as plt\n",
    "import seaborn as sns"
   ]
  },
  {
   "cell_type": "code",
   "execution_count": 2,
   "metadata": {
    "scrolled": false
   },
   "outputs": [
    {
     "data": {
      "text/html": [
       "<div>\n",
       "<style scoped>\n",
       "    .dataframe tbody tr th:only-of-type {\n",
       "        vertical-align: middle;\n",
       "    }\n",
       "\n",
       "    .dataframe tbody tr th {\n",
       "        vertical-align: top;\n",
       "    }\n",
       "\n",
       "    .dataframe thead th {\n",
       "        text-align: right;\n",
       "    }\n",
       "</style>\n",
       "<table border=\"1\" class=\"dataframe\">\n",
       "  <thead>\n",
       "    <tr style=\"text-align: right;\">\n",
       "      <th></th>\n",
       "      <th>Name</th>\n",
       "      <th>md5</th>\n",
       "      <th>Machine</th>\n",
       "      <th>SizeOfOptionalHeader</th>\n",
       "      <th>Characteristics</th>\n",
       "      <th>MajorLinkerVersion</th>\n",
       "      <th>MinorLinkerVersion</th>\n",
       "      <th>SizeOfCode</th>\n",
       "      <th>SizeOfInitializedData</th>\n",
       "      <th>SizeOfUninitializedData</th>\n",
       "      <th>...</th>\n",
       "      <th>ResourcesNb</th>\n",
       "      <th>ResourcesMeanEntropy</th>\n",
       "      <th>ResourcesMinEntropy</th>\n",
       "      <th>ResourcesMaxEntropy</th>\n",
       "      <th>ResourcesMeanSize</th>\n",
       "      <th>ResourcesMinSize</th>\n",
       "      <th>ResourcesMaxSize</th>\n",
       "      <th>LoadConfigurationSize</th>\n",
       "      <th>VersionInformationSize</th>\n",
       "      <th>legitimate</th>\n",
       "    </tr>\n",
       "  </thead>\n",
       "  <tbody>\n",
       "    <tr>\n",
       "      <th>0</th>\n",
       "      <td>memtest.exe</td>\n",
       "      <td>631ea355665f28d4707448e442fbf5b8</td>\n",
       "      <td>332</td>\n",
       "      <td>224</td>\n",
       "      <td>258</td>\n",
       "      <td>9</td>\n",
       "      <td>0</td>\n",
       "      <td>361984</td>\n",
       "      <td>115712</td>\n",
       "      <td>0</td>\n",
       "      <td>...</td>\n",
       "      <td>4</td>\n",
       "      <td>3.262823</td>\n",
       "      <td>2.568844</td>\n",
       "      <td>3.537939</td>\n",
       "      <td>8797.000000</td>\n",
       "      <td>216</td>\n",
       "      <td>18032</td>\n",
       "      <td>0</td>\n",
       "      <td>16</td>\n",
       "      <td>1</td>\n",
       "    </tr>\n",
       "    <tr>\n",
       "      <th>1</th>\n",
       "      <td>ose.exe</td>\n",
       "      <td>9d10f99a6712e28f8acd5641e3a7ea6b</td>\n",
       "      <td>332</td>\n",
       "      <td>224</td>\n",
       "      <td>3330</td>\n",
       "      <td>9</td>\n",
       "      <td>0</td>\n",
       "      <td>130560</td>\n",
       "      <td>19968</td>\n",
       "      <td>0</td>\n",
       "      <td>...</td>\n",
       "      <td>2</td>\n",
       "      <td>4.250461</td>\n",
       "      <td>3.420744</td>\n",
       "      <td>5.080177</td>\n",
       "      <td>837.000000</td>\n",
       "      <td>518</td>\n",
       "      <td>1156</td>\n",
       "      <td>72</td>\n",
       "      <td>18</td>\n",
       "      <td>1</td>\n",
       "    </tr>\n",
       "    <tr>\n",
       "      <th>2</th>\n",
       "      <td>setup.exe</td>\n",
       "      <td>4d92f518527353c0db88a70fddcfd390</td>\n",
       "      <td>332</td>\n",
       "      <td>224</td>\n",
       "      <td>3330</td>\n",
       "      <td>9</td>\n",
       "      <td>0</td>\n",
       "      <td>517120</td>\n",
       "      <td>621568</td>\n",
       "      <td>0</td>\n",
       "      <td>...</td>\n",
       "      <td>11</td>\n",
       "      <td>4.426324</td>\n",
       "      <td>2.846449</td>\n",
       "      <td>5.271813</td>\n",
       "      <td>31102.272727</td>\n",
       "      <td>104</td>\n",
       "      <td>270376</td>\n",
       "      <td>72</td>\n",
       "      <td>18</td>\n",
       "      <td>1</td>\n",
       "    </tr>\n",
       "    <tr>\n",
       "      <th>3</th>\n",
       "      <td>DW20.EXE</td>\n",
       "      <td>a41e524f8d45f0074fd07805ff0c9b12</td>\n",
       "      <td>332</td>\n",
       "      <td>224</td>\n",
       "      <td>258</td>\n",
       "      <td>9</td>\n",
       "      <td>0</td>\n",
       "      <td>585728</td>\n",
       "      <td>369152</td>\n",
       "      <td>0</td>\n",
       "      <td>...</td>\n",
       "      <td>10</td>\n",
       "      <td>4.364291</td>\n",
       "      <td>2.669314</td>\n",
       "      <td>6.400720</td>\n",
       "      <td>1457.000000</td>\n",
       "      <td>90</td>\n",
       "      <td>4264</td>\n",
       "      <td>72</td>\n",
       "      <td>18</td>\n",
       "      <td>1</td>\n",
       "    </tr>\n",
       "    <tr>\n",
       "      <th>4</th>\n",
       "      <td>dwtrig20.exe</td>\n",
       "      <td>c87e561258f2f8650cef999bf643a731</td>\n",
       "      <td>332</td>\n",
       "      <td>224</td>\n",
       "      <td>258</td>\n",
       "      <td>9</td>\n",
       "      <td>0</td>\n",
       "      <td>294912</td>\n",
       "      <td>247296</td>\n",
       "      <td>0</td>\n",
       "      <td>...</td>\n",
       "      <td>2</td>\n",
       "      <td>4.306100</td>\n",
       "      <td>3.421598</td>\n",
       "      <td>5.190603</td>\n",
       "      <td>1074.500000</td>\n",
       "      <td>849</td>\n",
       "      <td>1300</td>\n",
       "      <td>72</td>\n",
       "      <td>18</td>\n",
       "      <td>1</td>\n",
       "    </tr>\n",
       "  </tbody>\n",
       "</table>\n",
       "<p>5 rows × 57 columns</p>\n",
       "</div>"
      ],
      "text/plain": [
       "           Name                               md5  Machine  \\\n",
       "0   memtest.exe  631ea355665f28d4707448e442fbf5b8      332   \n",
       "1       ose.exe  9d10f99a6712e28f8acd5641e3a7ea6b      332   \n",
       "2     setup.exe  4d92f518527353c0db88a70fddcfd390      332   \n",
       "3      DW20.EXE  a41e524f8d45f0074fd07805ff0c9b12      332   \n",
       "4  dwtrig20.exe  c87e561258f2f8650cef999bf643a731      332   \n",
       "\n",
       "   SizeOfOptionalHeader  Characteristics  MajorLinkerVersion  \\\n",
       "0                   224              258                   9   \n",
       "1                   224             3330                   9   \n",
       "2                   224             3330                   9   \n",
       "3                   224              258                   9   \n",
       "4                   224              258                   9   \n",
       "\n",
       "   MinorLinkerVersion  SizeOfCode  SizeOfInitializedData  \\\n",
       "0                   0      361984                 115712   \n",
       "1                   0      130560                  19968   \n",
       "2                   0      517120                 621568   \n",
       "3                   0      585728                 369152   \n",
       "4                   0      294912                 247296   \n",
       "\n",
       "   SizeOfUninitializedData  ...  ResourcesNb  ResourcesMeanEntropy  \\\n",
       "0                        0  ...            4              3.262823   \n",
       "1                        0  ...            2              4.250461   \n",
       "2                        0  ...           11              4.426324   \n",
       "3                        0  ...           10              4.364291   \n",
       "4                        0  ...            2              4.306100   \n",
       "\n",
       "   ResourcesMinEntropy  ResourcesMaxEntropy  ResourcesMeanSize  \\\n",
       "0             2.568844             3.537939        8797.000000   \n",
       "1             3.420744             5.080177         837.000000   \n",
       "2             2.846449             5.271813       31102.272727   \n",
       "3             2.669314             6.400720        1457.000000   \n",
       "4             3.421598             5.190603        1074.500000   \n",
       "\n",
       "   ResourcesMinSize  ResourcesMaxSize  LoadConfigurationSize  \\\n",
       "0               216             18032                      0   \n",
       "1               518              1156                     72   \n",
       "2               104            270376                     72   \n",
       "3                90              4264                     72   \n",
       "4               849              1300                     72   \n",
       "\n",
       "   VersionInformationSize  legitimate  \n",
       "0                      16           1  \n",
       "1                      18           1  \n",
       "2                      18           1  \n",
       "3                      18           1  \n",
       "4                      18           1  \n",
       "\n",
       "[5 rows x 57 columns]"
      ]
     },
     "execution_count": 2,
     "metadata": {},
     "output_type": "execute_result"
    }
   ],
   "source": [
    "df = pd.read_csv(r\"MalwareData.csv.gz\", sep = '|')\n",
    "df.head()"
   ]
  },
  {
   "cell_type": "code",
   "execution_count": 3,
   "metadata": {
    "scrolled": false
   },
   "outputs": [
    {
     "name": "stdout",
     "output_type": "stream",
     "text": [
      "Name                            object\n",
      "md5                             object\n",
      "Machine                          int64\n",
      "SizeOfOptionalHeader             int64\n",
      "Characteristics                  int64\n",
      "MajorLinkerVersion               int64\n",
      "MinorLinkerVersion               int64\n",
      "SizeOfCode                       int64\n",
      "SizeOfInitializedData            int64\n",
      "SizeOfUninitializedData          int64\n",
      "AddressOfEntryPoint              int64\n",
      "BaseOfCode                       int64\n",
      "BaseOfData                       int64\n",
      "ImageBase                      float64\n",
      "SectionAlignment                 int64\n",
      "FileAlignment                    int64\n",
      "MajorOperatingSystemVersion      int64\n",
      "MinorOperatingSystemVersion      int64\n",
      "MajorImageVersion                int64\n",
      "MinorImageVersion                int64\n",
      "MajorSubsystemVersion            int64\n",
      "MinorSubsystemVersion            int64\n",
      "SizeOfImage                      int64\n",
      "SizeOfHeaders                    int64\n",
      "CheckSum                         int64\n",
      "Subsystem                        int64\n",
      "DllCharacteristics               int64\n",
      "SizeOfStackReserve               int64\n",
      "SizeOfStackCommit                int64\n",
      "SizeOfHeapReserve                int64\n",
      "SizeOfHeapCommit                 int64\n",
      "LoaderFlags                      int64\n",
      "NumberOfRvaAndSizes              int64\n",
      "SectionsNb                       int64\n",
      "SectionsMeanEntropy            float64\n",
      "SectionsMinEntropy             float64\n",
      "SectionsMaxEntropy             float64\n",
      "SectionsMeanRawsize            float64\n",
      "SectionsMinRawsize               int64\n",
      "SectionMaxRawsize                int64\n",
      "SectionsMeanVirtualsize        float64\n",
      "SectionsMinVirtualsize           int64\n",
      "SectionMaxVirtualsize            int64\n",
      "ImportsNbDLL                     int64\n",
      "ImportsNb                        int64\n",
      "ImportsNbOrdinal                 int64\n",
      "ExportNb                         int64\n",
      "ResourcesNb                      int64\n",
      "ResourcesMeanEntropy           float64\n",
      "ResourcesMinEntropy            float64\n",
      "ResourcesMaxEntropy            float64\n",
      "ResourcesMeanSize              float64\n",
      "ResourcesMinSize                 int64\n",
      "ResourcesMaxSize                 int64\n",
      "LoadConfigurationSize            int64\n",
      "VersionInformationSize           int64\n",
      "legitimate                       int64\n",
      "dtype: object\n"
     ]
    }
   ],
   "source": [
    "print(df.dtypes)"
   ]
  },
  {
   "cell_type": "markdown",
   "metadata": {},
   "source": [
    "# Clean the dataset"
   ]
  },
  {
   "cell_type": "code",
   "execution_count": 4,
   "metadata": {},
   "outputs": [],
   "source": [
    "# remove unnecessary data\n",
    "df.drop(columns = ['Name', 'md5'],inplace=True)"
   ]
  },
  {
   "cell_type": "code",
   "execution_count": 5,
   "metadata": {},
   "outputs": [
    {
     "data": {
      "text/plain": [
       "Machine                        0\n",
       "SizeOfOptionalHeader           0\n",
       "Characteristics                0\n",
       "MajorLinkerVersion             0\n",
       "MinorLinkerVersion             0\n",
       "SizeOfCode                     0\n",
       "SizeOfInitializedData          0\n",
       "SizeOfUninitializedData        0\n",
       "AddressOfEntryPoint            0\n",
       "BaseOfCode                     0\n",
       "BaseOfData                     0\n",
       "ImageBase                      0\n",
       "SectionAlignment               0\n",
       "FileAlignment                  0\n",
       "MajorOperatingSystemVersion    0\n",
       "MinorOperatingSystemVersion    0\n",
       "MajorImageVersion              0\n",
       "MinorImageVersion              0\n",
       "MajorSubsystemVersion          0\n",
       "MinorSubsystemVersion          0\n",
       "SizeOfImage                    0\n",
       "SizeOfHeaders                  0\n",
       "CheckSum                       0\n",
       "Subsystem                      0\n",
       "DllCharacteristics             0\n",
       "SizeOfStackReserve             0\n",
       "SizeOfStackCommit              0\n",
       "SizeOfHeapReserve              0\n",
       "SizeOfHeapCommit               0\n",
       "LoaderFlags                    0\n",
       "NumberOfRvaAndSizes            0\n",
       "SectionsNb                     0\n",
       "SectionsMeanEntropy            0\n",
       "SectionsMinEntropy             0\n",
       "SectionsMaxEntropy             0\n",
       "SectionsMeanRawsize            0\n",
       "SectionsMinRawsize             0\n",
       "SectionMaxRawsize              0\n",
       "SectionsMeanVirtualsize        0\n",
       "SectionsMinVirtualsize         0\n",
       "SectionMaxVirtualsize          0\n",
       "ImportsNbDLL                   0\n",
       "ImportsNb                      0\n",
       "ImportsNbOrdinal               0\n",
       "ExportNb                       0\n",
       "ResourcesNb                    0\n",
       "ResourcesMeanEntropy           0\n",
       "ResourcesMinEntropy            0\n",
       "ResourcesMaxEntropy            0\n",
       "ResourcesMeanSize              0\n",
       "ResourcesMinSize               0\n",
       "ResourcesMaxSize               0\n",
       "LoadConfigurationSize          0\n",
       "VersionInformationSize         0\n",
       "legitimate                     0\n",
       "dtype: int64"
      ]
     },
     "execution_count": 5,
     "metadata": {},
     "output_type": "execute_result"
    }
   ],
   "source": [
    "df.isnull().sum()"
   ]
  },
  {
   "cell_type": "markdown",
   "metadata": {},
   "source": [
    "Null removal not required"
   ]
  },
  {
   "cell_type": "code",
   "execution_count": 6,
   "metadata": {
    "scrolled": true
   },
   "outputs": [
    {
     "name": "stdout",
     "output_type": "stream",
     "text": [
      "legitimate                     1.000000\n",
      "Machine                        0.548835\n",
      "SizeOfOptionalHeader           0.547498\n",
      "Subsystem                      0.514352\n",
      "MajorSubsystemVersion          0.380393\n",
      "VersionInformationSize         0.379646\n",
      "ResourcesMinEntropy            0.299112\n",
      "Characteristics                0.221956\n",
      "ExportNb                       0.134408\n",
      "ImportsNbOrdinal               0.128112\n",
      "FileAlignment                  0.125169\n",
      "ImportsNb                      0.116415\n",
      "ResourcesNb                    0.090405\n",
      "MajorImageVersion              0.084410\n",
      "MinorImageVersion              0.083220\n",
      "SectionsMinRawsize             0.059346\n",
      "SectionsMinVirtualsize         0.056466\n",
      "ImportsNbDLL                   0.038395\n",
      "SizeOfCode                     0.017476\n",
      "MajorLinkerVersion             0.017320\n",
      "SizeOfHeaders                  0.010125\n",
      "ImageBase                      0.008245\n",
      "MajorOperatingSystemVersion    0.002402\n",
      "SectionsMeanVirtualsize        0.001734\n",
      "SectionsMeanRawsize            0.001175\n",
      "AddressOfEntryPoint           -0.000134\n",
      "SectionMaxRawsize             -0.000790\n",
      "BaseOfData                    -0.001136\n",
      "MinorSubsystemVersion         -0.001213\n",
      "SectionMaxVirtualsize         -0.001332\n",
      "MinorOperatingSystemVersion   -0.001702\n",
      "ResourcesMinSize              -0.001774\n",
      "SectionAlignment              -0.002429\n",
      "SizeOfHeapCommit              -0.002506\n",
      "SizeOfImage                   -0.002603\n",
      "LoaderFlags                   -0.002649\n",
      "SizeOfStackCommit             -0.003226\n",
      "NumberOfRvaAndSizes           -0.003523\n",
      "ResourcesMeanSize             -0.003824\n",
      "SizeOfUninitializedData       -0.003997\n",
      "SizeOfInitializedData         -0.004958\n",
      "ResourcesMaxSize              -0.005529\n",
      "BaseOfCode                    -0.006232\n",
      "LoadConfigurationSize         -0.011666\n",
      "MinorLinkerVersion            -0.146652\n",
      "SectionsMinEntropy            -0.152840\n",
      "SizeOfHeapReserve             -0.156260\n",
      "CheckSum                      -0.195329\n",
      "ResourcesMeanEntropy          -0.202432\n",
      "SectionsNb                    -0.207782\n",
      "SectionsMeanEntropy           -0.343933\n",
      "ResourcesMaxEntropy           -0.392855\n",
      "SizeOfStackReserve            -0.521642\n",
      "SectionsMaxEntropy            -0.624229\n",
      "DllCharacteristics            -0.630177\n",
      "Name: legitimate, dtype: float64\n"
     ]
    }
   ],
   "source": [
    "corr_matrix = df.corr()\n",
    "corr_to_target = corr_matrix['legitimate'].sort_values(ascending=False)\n",
    "print(corr_to_target)"
   ]
  },
  {
   "cell_type": "markdown",
   "metadata": {},
   "source": [
    "Correlation matrix shows how data in the features is correlated to the required label. Any data with absolute corrvalue less than 0.1 can be dropped"
   ]
  },
  {
   "cell_type": "code",
   "execution_count": 7,
   "metadata": {},
   "outputs": [
    {
     "data": {
      "text/plain": [
       "(138047, 55)"
      ]
     },
     "execution_count": 7,
     "metadata": {},
     "output_type": "execute_result"
    }
   ],
   "source": [
    "df.shape"
   ]
  },
  {
   "cell_type": "code",
   "execution_count": 8,
   "metadata": {},
   "outputs": [],
   "source": [
    "columnNames = df.columns.values\n",
    "for name in columnNames:\n",
    "    if(corr_to_target[name] < 0.1 and corr_to_target[name] > -0.1):\n",
    "        df.drop(columns = name, inplace = True)"
   ]
  },
  {
   "cell_type": "code",
   "execution_count": 9,
   "metadata": {},
   "outputs": [
    {
     "data": {
      "text/plain": [
       "(138047, 23)"
      ]
     },
     "execution_count": 9,
     "metadata": {},
     "output_type": "execute_result"
    }
   ],
   "source": [
    "df.shape\n",
    "# Reduced to 25 from 55"
   ]
  },
  {
   "cell_type": "code",
   "execution_count": 10,
   "metadata": {
    "scrolled": false
   },
   "outputs": [
    {
     "data": {
      "text/html": [
       "<div>\n",
       "<style scoped>\n",
       "    .dataframe tbody tr th:only-of-type {\n",
       "        vertical-align: middle;\n",
       "    }\n",
       "\n",
       "    .dataframe tbody tr th {\n",
       "        vertical-align: top;\n",
       "    }\n",
       "\n",
       "    .dataframe thead th {\n",
       "        text-align: right;\n",
       "    }\n",
       "</style>\n",
       "<table border=\"1\" class=\"dataframe\">\n",
       "  <thead>\n",
       "    <tr style=\"text-align: right;\">\n",
       "      <th></th>\n",
       "      <th>Machine</th>\n",
       "      <th>SizeOfOptionalHeader</th>\n",
       "      <th>Characteristics</th>\n",
       "      <th>MinorLinkerVersion</th>\n",
       "      <th>FileAlignment</th>\n",
       "      <th>MajorSubsystemVersion</th>\n",
       "      <th>CheckSum</th>\n",
       "      <th>Subsystem</th>\n",
       "      <th>DllCharacteristics</th>\n",
       "      <th>SizeOfStackReserve</th>\n",
       "      <th>...</th>\n",
       "      <th>SectionsMinEntropy</th>\n",
       "      <th>SectionsMaxEntropy</th>\n",
       "      <th>ImportsNb</th>\n",
       "      <th>ImportsNbOrdinal</th>\n",
       "      <th>ExportNb</th>\n",
       "      <th>ResourcesMeanEntropy</th>\n",
       "      <th>ResourcesMinEntropy</th>\n",
       "      <th>ResourcesMaxEntropy</th>\n",
       "      <th>VersionInformationSize</th>\n",
       "      <th>legitimate</th>\n",
       "    </tr>\n",
       "  </thead>\n",
       "  <tbody>\n",
       "    <tr>\n",
       "      <th>count</th>\n",
       "      <td>138047.000000</td>\n",
       "      <td>138047.000000</td>\n",
       "      <td>138047.000000</td>\n",
       "      <td>138047.000000</td>\n",
       "      <td>138047.000000</td>\n",
       "      <td>138047.000000</td>\n",
       "      <td>1.380470e+05</td>\n",
       "      <td>138047.000000</td>\n",
       "      <td>138047.000000</td>\n",
       "      <td>1.380470e+05</td>\n",
       "      <td>...</td>\n",
       "      <td>138047.000000</td>\n",
       "      <td>138047.000000</td>\n",
       "      <td>138047.000000</td>\n",
       "      <td>138047.000000</td>\n",
       "      <td>138047.000000</td>\n",
       "      <td>138047.000000</td>\n",
       "      <td>138047.000000</td>\n",
       "      <td>138047.000000</td>\n",
       "      <td>138047.000000</td>\n",
       "      <td>138047.000000</td>\n",
       "    </tr>\n",
       "    <tr>\n",
       "      <th>mean</th>\n",
       "      <td>4259.069274</td>\n",
       "      <td>225.845632</td>\n",
       "      <td>4444.145994</td>\n",
       "      <td>3.819286</td>\n",
       "      <td>694.386694</td>\n",
       "      <td>4.861895</td>\n",
       "      <td>1.797959e+08</td>\n",
       "      <td>2.157403</td>\n",
       "      <td>22312.125283</td>\n",
       "      <td>9.302477e+05</td>\n",
       "      <td>...</td>\n",
       "      <td>2.259625</td>\n",
       "      <td>6.958913</td>\n",
       "      <td>113.225648</td>\n",
       "      <td>4.338341</td>\n",
       "      <td>23.674263</td>\n",
       "      <td>4.000127</td>\n",
       "      <td>2.434541</td>\n",
       "      <td>5.521610</td>\n",
       "      <td>12.363115</td>\n",
       "      <td>0.299340</td>\n",
       "    </tr>\n",
       "    <tr>\n",
       "      <th>std</th>\n",
       "      <td>10880.347245</td>\n",
       "      <td>5.121399</td>\n",
       "      <td>8186.782524</td>\n",
       "      <td>11.862675</td>\n",
       "      <td>1289.921098</td>\n",
       "      <td>0.647720</td>\n",
       "      <td>5.976192e+08</td>\n",
       "      <td>0.452940</td>\n",
       "      <td>15440.574817</td>\n",
       "      <td>5.550081e+05</td>\n",
       "      <td>...</td>\n",
       "      <td>1.831893</td>\n",
       "      <td>1.044297</td>\n",
       "      <td>123.134704</td>\n",
       "      <td>34.776745</td>\n",
       "      <td>252.093958</td>\n",
       "      <td>1.112981</td>\n",
       "      <td>0.815577</td>\n",
       "      <td>1.597403</td>\n",
       "      <td>6.798878</td>\n",
       "      <td>0.457971</td>\n",
       "    </tr>\n",
       "    <tr>\n",
       "      <th>min</th>\n",
       "      <td>332.000000</td>\n",
       "      <td>224.000000</td>\n",
       "      <td>2.000000</td>\n",
       "      <td>0.000000</td>\n",
       "      <td>16.000000</td>\n",
       "      <td>1.000000</td>\n",
       "      <td>0.000000e+00</td>\n",
       "      <td>1.000000</td>\n",
       "      <td>0.000000</td>\n",
       "      <td>0.000000e+00</td>\n",
       "      <td>...</td>\n",
       "      <td>0.000000</td>\n",
       "      <td>0.000000</td>\n",
       "      <td>0.000000</td>\n",
       "      <td>0.000000</td>\n",
       "      <td>0.000000</td>\n",
       "      <td>0.000000</td>\n",
       "      <td>0.000000</td>\n",
       "      <td>0.000000</td>\n",
       "      <td>0.000000</td>\n",
       "      <td>0.000000</td>\n",
       "    </tr>\n",
       "    <tr>\n",
       "      <th>25%</th>\n",
       "      <td>332.000000</td>\n",
       "      <td>224.000000</td>\n",
       "      <td>258.000000</td>\n",
       "      <td>0.000000</td>\n",
       "      <td>512.000000</td>\n",
       "      <td>4.000000</td>\n",
       "      <td>1.065765e+05</td>\n",
       "      <td>2.000000</td>\n",
       "      <td>320.000000</td>\n",
       "      <td>1.048576e+06</td>\n",
       "      <td>...</td>\n",
       "      <td>0.020393</td>\n",
       "      <td>6.417698</td>\n",
       "      <td>67.000000</td>\n",
       "      <td>0.000000</td>\n",
       "      <td>0.000000</td>\n",
       "      <td>3.458505</td>\n",
       "      <td>2.178748</td>\n",
       "      <td>4.828706</td>\n",
       "      <td>13.000000</td>\n",
       "      <td>0.000000</td>\n",
       "    </tr>\n",
       "    <tr>\n",
       "      <th>50%</th>\n",
       "      <td>332.000000</td>\n",
       "      <td>224.000000</td>\n",
       "      <td>258.000000</td>\n",
       "      <td>0.000000</td>\n",
       "      <td>512.000000</td>\n",
       "      <td>5.000000</td>\n",
       "      <td>5.180260e+05</td>\n",
       "      <td>2.000000</td>\n",
       "      <td>33088.000000</td>\n",
       "      <td>1.048576e+06</td>\n",
       "      <td>...</td>\n",
       "      <td>2.545297</td>\n",
       "      <td>6.687587</td>\n",
       "      <td>90.000000</td>\n",
       "      <td>0.000000</td>\n",
       "      <td>0.000000</td>\n",
       "      <td>3.729824</td>\n",
       "      <td>2.458492</td>\n",
       "      <td>5.317552</td>\n",
       "      <td>15.000000</td>\n",
       "      <td>0.000000</td>\n",
       "    </tr>\n",
       "    <tr>\n",
       "      <th>75%</th>\n",
       "      <td>332.000000</td>\n",
       "      <td>224.000000</td>\n",
       "      <td>8226.000000</td>\n",
       "      <td>0.000000</td>\n",
       "      <td>512.000000</td>\n",
       "      <td>5.000000</td>\n",
       "      <td>5.716305e+05</td>\n",
       "      <td>2.000000</td>\n",
       "      <td>33088.000000</td>\n",
       "      <td>1.048576e+06</td>\n",
       "      <td>...</td>\n",
       "      <td>4.087324</td>\n",
       "      <td>7.963092</td>\n",
       "      <td>128.000000</td>\n",
       "      <td>1.000000</td>\n",
       "      <td>0.000000</td>\n",
       "      <td>4.233051</td>\n",
       "      <td>2.696833</td>\n",
       "      <td>6.502239</td>\n",
       "      <td>16.000000</td>\n",
       "      <td>1.000000</td>\n",
       "    </tr>\n",
       "    <tr>\n",
       "      <th>max</th>\n",
       "      <td>34404.000000</td>\n",
       "      <td>352.000000</td>\n",
       "      <td>49551.000000</td>\n",
       "      <td>255.000000</td>\n",
       "      <td>65536.000000</td>\n",
       "      <td>10.000000</td>\n",
       "      <td>4.294967e+09</td>\n",
       "      <td>16.000000</td>\n",
       "      <td>49504.000000</td>\n",
       "      <td>3.355443e+07</td>\n",
       "      <td>...</td>\n",
       "      <td>7.995558</td>\n",
       "      <td>7.999994</td>\n",
       "      <td>4432.000000</td>\n",
       "      <td>3450.000000</td>\n",
       "      <td>16596.000000</td>\n",
       "      <td>7.999723</td>\n",
       "      <td>7.999723</td>\n",
       "      <td>8.000000</td>\n",
       "      <td>26.000000</td>\n",
       "      <td>1.000000</td>\n",
       "    </tr>\n",
       "  </tbody>\n",
       "</table>\n",
       "<p>8 rows × 23 columns</p>\n",
       "</div>"
      ],
      "text/plain": [
       "             Machine  SizeOfOptionalHeader  Characteristics  \\\n",
       "count  138047.000000         138047.000000    138047.000000   \n",
       "mean     4259.069274            225.845632      4444.145994   \n",
       "std     10880.347245              5.121399      8186.782524   \n",
       "min       332.000000            224.000000         2.000000   \n",
       "25%       332.000000            224.000000       258.000000   \n",
       "50%       332.000000            224.000000       258.000000   \n",
       "75%       332.000000            224.000000      8226.000000   \n",
       "max     34404.000000            352.000000     49551.000000   \n",
       "\n",
       "       MinorLinkerVersion  FileAlignment  MajorSubsystemVersion      CheckSum  \\\n",
       "count       138047.000000  138047.000000          138047.000000  1.380470e+05   \n",
       "mean             3.819286     694.386694               4.861895  1.797959e+08   \n",
       "std             11.862675    1289.921098               0.647720  5.976192e+08   \n",
       "min              0.000000      16.000000               1.000000  0.000000e+00   \n",
       "25%              0.000000     512.000000               4.000000  1.065765e+05   \n",
       "50%              0.000000     512.000000               5.000000  5.180260e+05   \n",
       "75%              0.000000     512.000000               5.000000  5.716305e+05   \n",
       "max            255.000000   65536.000000              10.000000  4.294967e+09   \n",
       "\n",
       "           Subsystem  DllCharacteristics  SizeOfStackReserve  ...  \\\n",
       "count  138047.000000       138047.000000        1.380470e+05  ...   \n",
       "mean        2.157403        22312.125283        9.302477e+05  ...   \n",
       "std         0.452940        15440.574817        5.550081e+05  ...   \n",
       "min         1.000000            0.000000        0.000000e+00  ...   \n",
       "25%         2.000000          320.000000        1.048576e+06  ...   \n",
       "50%         2.000000        33088.000000        1.048576e+06  ...   \n",
       "75%         2.000000        33088.000000        1.048576e+06  ...   \n",
       "max        16.000000        49504.000000        3.355443e+07  ...   \n",
       "\n",
       "       SectionsMinEntropy  SectionsMaxEntropy      ImportsNb  \\\n",
       "count       138047.000000       138047.000000  138047.000000   \n",
       "mean             2.259625            6.958913     113.225648   \n",
       "std              1.831893            1.044297     123.134704   \n",
       "min              0.000000            0.000000       0.000000   \n",
       "25%              0.020393            6.417698      67.000000   \n",
       "50%              2.545297            6.687587      90.000000   \n",
       "75%              4.087324            7.963092     128.000000   \n",
       "max              7.995558            7.999994    4432.000000   \n",
       "\n",
       "       ImportsNbOrdinal       ExportNb  ResourcesMeanEntropy  \\\n",
       "count     138047.000000  138047.000000         138047.000000   \n",
       "mean           4.338341      23.674263              4.000127   \n",
       "std           34.776745     252.093958              1.112981   \n",
       "min            0.000000       0.000000              0.000000   \n",
       "25%            0.000000       0.000000              3.458505   \n",
       "50%            0.000000       0.000000              3.729824   \n",
       "75%            1.000000       0.000000              4.233051   \n",
       "max         3450.000000   16596.000000              7.999723   \n",
       "\n",
       "       ResourcesMinEntropy  ResourcesMaxEntropy  VersionInformationSize  \\\n",
       "count        138047.000000        138047.000000           138047.000000   \n",
       "mean              2.434541             5.521610               12.363115   \n",
       "std               0.815577             1.597403                6.798878   \n",
       "min               0.000000             0.000000                0.000000   \n",
       "25%               2.178748             4.828706               13.000000   \n",
       "50%               2.458492             5.317552               15.000000   \n",
       "75%               2.696833             6.502239               16.000000   \n",
       "max               7.999723             8.000000               26.000000   \n",
       "\n",
       "          legitimate  \n",
       "count  138047.000000  \n",
       "mean        0.299340  \n",
       "std         0.457971  \n",
       "min         0.000000  \n",
       "25%         0.000000  \n",
       "50%         0.000000  \n",
       "75%         1.000000  \n",
       "max         1.000000  \n",
       "\n",
       "[8 rows x 23 columns]"
      ]
     },
     "execution_count": 10,
     "metadata": {},
     "output_type": "execute_result"
    }
   ],
   "source": [
    "df.describe()"
   ]
  },
  {
   "cell_type": "markdown",
   "metadata": {},
   "source": [
    "# Discovery and Visualisation"
   ]
  },
  {
   "cell_type": "code",
   "execution_count": 11,
   "metadata": {
    "scrolled": true
   },
   "outputs": [
    {
     "data": {
      "text/plain": [
       "(-1.1127560425627276,\n",
       " 1.1135052648311998,\n",
       " -1.117470760988911,\n",
       " 1.100831940999472)"
      ]
     },
     "execution_count": 11,
     "metadata": {},
     "output_type": "execute_result"
    },
    {
     "data": {
      "image/png": "[encoded data removed]",
      "text/plain": [
       "<Figure size 1080x432 with 1 Axes>"
      ]
     },
     "metadata": {},
     "output_type": "display_data"
    }
   ],
   "source": [
    "plt.figure(figsize = (15, 6))\n",
    "plot_params1 = {'kind':'pie', 'startangle': 90, 'autopct':'%1.1f%%', 'colors':['red', 'green']}\n",
    "\n",
    "# how many have disease vs how many don't\n",
    "plt.subplot2grid((2,4), (0,0))\n",
    "df.legitimate.value_counts() \\\n",
    ".plot(title='Attacks', **plot_params1).axis('equal')"
   ]
  },
  {
   "cell_type": "markdown",
   "metadata": {},
   "source": [
    "Therefore, the data is skewed towards no attacks (0). "
   ]
  },
  {
   "cell_type": "code",
   "execution_count": 12,
   "metadata": {},
   "outputs": [
    {
     "data": {
      "image/png": "[encoded data removed]",
      "text/plain": [
       "<Figure size 576x432 with 2 Axes>"
      ]
     },
     "metadata": {
      "needs_background": "light"
     },
     "output_type": "display_data"
    }
   ],
   "source": [
    "fig = plt.figure(figsize=(8,6))\n",
    "sns.heatmap(df.corr(method = 'pearson'), square= True, cmap=\"YlGnBu\")\n",
    "plt.show()"
   ]
  },
  {
   "cell_type": "markdown",
   "metadata": {},
   "source": [
    "*Correlation matrix*\n",
    "Here we can see how some data is related to others. Data that are highly correlated to each other can be removed. We will remove data that is more than is more than 60% correlated"
   ]
  },
  {
   "cell_type": "code",
   "execution_count": 13,
   "metadata": {
    "scrolled": false
   },
   "outputs": [
    {
     "data": {
      "text/plain": [
       "Machine                        1.000000\n",
       "SizeOfOptionalHeader           0.997541\n",
       "legitimate                     0.548835\n",
       "MajorSubsystemVersion          0.431452\n",
       "Subsystem                      0.299575\n",
       "VersionInformationSize         0.214003\n",
       "ResourcesMinEntropy            0.164394\n",
       "ImportsNb                      0.115497\n",
       "Characteristics                0.114560\n",
       "ImportsNbOrdinal               0.082367\n",
       "ImportsNbDLL                   0.081244\n",
       "ExportNb                       0.063642\n",
       "MajorImageVersion              0.059848\n",
       "MinorImageVersion              0.058963\n",
       "ResourcesNb                    0.058074\n",
       "SectionsMinRawsize             0.045414\n",
       "MajorLinkerVersion             0.045254\n",
       "SectionsMinVirtualsize         0.043773\n",
       "SectionsNb                     0.022223\n",
       "ImageBase                      0.014930\n",
       "SizeOfCode                     0.013378\n",
       "SizeOfImage                    0.008352\n",
       "AddressOfEntryPoint            0.007993\n",
       "SizeOfStackCommit              0.006598\n",
       "SectionsMeanVirtualsize        0.002762\n",
       "MajorOperatingSystemVersion    0.002570\n",
       "SectionMaxVirtualsize          0.002454\n",
       "SectionsMeanRawsize            0.001392\n",
       "SectionMaxRawsize              0.000741\n",
       "MinorOperatingSystemVersion    0.000361\n",
       "MinorSubsystemVersion         -0.000333\n",
       "ResourcesMinSize              -0.000982\n",
       "SizeOfHeapCommit              -0.001386\n",
       "LoaderFlags                   -0.001463\n",
       "SectionAlignment              -0.001472\n",
       "SizeOfInitializedData         -0.001511\n",
       "NumberOfRvaAndSizes           -0.001946\n",
       "ResourcesMeanSize             -0.002039\n",
       "SizeOfUninitializedData       -0.002225\n",
       "ResourcesMaxSize              -0.003153\n",
       "BaseOfCode                    -0.003476\n",
       "LoadConfigurationSize         -0.006442\n",
       "SizeOfHeaders                 -0.013336\n",
       "BaseOfData                    -0.036518\n",
       "FileAlignment                 -0.038112\n",
       "SectionsMinEntropy            -0.073418\n",
       "ResourcesMeanEntropy          -0.094055\n",
       "SizeOfHeapReserve             -0.101637\n",
       "CheckSum                      -0.108083\n",
       "MinorLinkerVersion            -0.112991\n",
       "ResourcesMaxEntropy           -0.187737\n",
       "SectionsMeanEntropy           -0.198696\n",
       "SizeOfStackReserve            -0.321671\n",
       "SectionsMaxEntropy            -0.360762\n",
       "DllCharacteristics            -0.366343\n",
       "Name: Machine, dtype: float64"
      ]
     },
     "execution_count": 13,
     "metadata": {},
     "output_type": "execute_result"
    }
   ],
   "source": [
    "corr_matrix['Machine'].sort_values(ascending=False)"
   ]
  },
  {
   "cell_type": "markdown",
   "metadata": {},
   "source": [
    "Machine and SizeOfOptionalHeader to correlated too heavily. this will skew results"
   ]
  },
  {
   "cell_type": "code",
   "execution_count": 14,
   "metadata": {},
   "outputs": [
    {
     "data": {
      "text/plain": [
       "SectionsMeanEntropy            1.000000\n",
       "SectionsMinEntropy             0.809012\n",
       "SectionsMaxEntropy             0.673100\n",
       "DllCharacteristics             0.410008\n",
       "MajorLinkerVersion             0.329899\n",
       "ResourcesMaxEntropy            0.324904\n",
       "ResourcesMeanEntropy           0.314301\n",
       "MajorSubsystemVersion          0.195796\n",
       "ImportsNb                      0.153517\n",
       "SectionsMinVirtualsize         0.070186\n",
       "SectionsMinRawsize             0.069814\n",
       "VersionInformationSize         0.054148\n",
       "MinorImageVersion              0.044158\n",
       "MajorImageVersion              0.043758\n",
       "SizeOfStackReserve             0.039445\n",
       "ImportsNbOrdinal               0.028437\n",
       "SizeOfHeapReserve              0.022151\n",
       "SizeOfImage                    0.019465\n",
       "ResourcesNb                    0.017388\n",
       "SectionsMeanVirtualsize        0.009543\n",
       "ExportNb                       0.009198\n",
       "LoadConfigurationSize          0.006992\n",
       "BaseOfData                     0.006362\n",
       "ResourcesMaxSize               0.004853\n",
       "SectionMaxVirtualsize          0.004838\n",
       "SectionsMeanRawsize            0.004638\n",
       "SectionAlignment               0.004610\n",
       "SectionMaxRawsize              0.001734\n",
       "ResourcesMeanSize              0.000997\n",
       "SizeOfCode                     0.000655\n",
       "MinorOperatingSystemVersion    0.000145\n",
       "MajorOperatingSystemVersion    0.000123\n",
       "SizeOfInitializedData         -0.000314\n",
       "MinorSubsystemVersion         -0.000938\n",
       "SizeOfHeapCommit              -0.001783\n",
       "LoaderFlags                   -0.001896\n",
       "AddressOfEntryPoint           -0.002385\n",
       "NumberOfRvaAndSizes           -0.002857\n",
       "BaseOfCode                    -0.002999\n",
       "SizeOfUninitializedData       -0.003181\n",
       "ResourcesMinSize              -0.003313\n",
       "ImageBase                     -0.007726\n",
       "CheckSum                      -0.029345\n",
       "SizeOfHeaders                 -0.035159\n",
       "ImportsNbDLL                  -0.040807\n",
       "SectionsNb                    -0.061777\n",
       "SizeOfStackCommit             -0.072010\n",
       "ResourcesMinEntropy           -0.106697\n",
       "FileAlignment                 -0.152453\n",
       "Machine                       -0.198696\n",
       "SizeOfOptionalHeader          -0.198774\n",
       "Subsystem                     -0.226693\n",
       "legitimate                    -0.343933\n",
       "MinorLinkerVersion            -0.374566\n",
       "Characteristics               -0.517653\n",
       "Name: SectionsMeanEntropy, dtype: float64"
      ]
     },
     "execution_count": 14,
     "metadata": {},
     "output_type": "execute_result"
    }
   ],
   "source": [
    "corr_matrix['SectionsMeanEntropy'].sort_values(ascending=False)"
   ]
  },
  {
   "cell_type": "markdown",
   "metadata": {},
   "source": [
    "SectionsMaxEntropy and SectionsMinEntropy"
   ]
  },
  {
   "cell_type": "code",
   "execution_count": 15,
   "metadata": {
    "scrolled": false
   },
   "outputs": [
    {
     "data": {
      "text/plain": [
       "ImportsNbDLL                   1.000000\n",
       "ImportsNb                      0.605107\n",
       "SectionsNb                     0.267269\n",
       "ResourcesMaxEntropy            0.262163\n",
       "Characteristics                0.251199\n",
       "MinorLinkerVersion             0.190151\n",
       "ImportsNbOrdinal               0.179800\n",
       "SizeOfHeapReserve              0.119712\n",
       "ResourcesMeanEntropy           0.109116\n",
       "ResourcesNb                    0.097788\n",
       "Machine                        0.081244\n",
       "SizeOfOptionalHeader           0.081089\n",
       "BaseOfData                     0.071978\n",
       "SizeOfStackCommit              0.069047\n",
       "ExportNb                       0.059615\n",
       "MajorImageVersion              0.052341\n",
       "MinorImageVersion              0.051421\n",
       "SizeOfImage                    0.045616\n",
       "MajorSubsystemVersion          0.039484\n",
       "AddressOfEntryPoint            0.038941\n",
       "legitimate                     0.038395\n",
       "SizeOfCode                     0.024630\n",
       "SizeOfHeaders                  0.021122\n",
       "SectionMaxVirtualsize          0.016624\n",
       "SectionsMeanVirtualsize        0.010740\n",
       "FileAlignment                  0.007022\n",
       "BaseOfCode                     0.005671\n",
       "SectionMaxRawsize              0.004689\n",
       "SizeOfUninitializedData        0.002858\n",
       "SectionsMeanRawsize            0.002334\n",
       "SectionsMaxEntropy            -0.000324\n",
       "SizeOfInitializedData         -0.002670\n",
       "MajorOperatingSystemVersion   -0.002752\n",
       "SectionAlignment              -0.003147\n",
       "ResourcesMinSize              -0.003435\n",
       "SizeOfHeapCommit              -0.003887\n",
       "ResourcesMaxSize              -0.004009\n",
       "LoaderFlags                   -0.004080\n",
       "MinorSubsystemVersion         -0.004263\n",
       "NumberOfRvaAndSizes           -0.004474\n",
       "MinorOperatingSystemVersion   -0.004670\n",
       "ResourcesMeanSize             -0.005688\n",
       "ImageBase                     -0.006739\n",
       "LoadConfigurationSize         -0.014597\n",
       "SizeOfStackReserve            -0.018345\n",
       "VersionInformationSize        -0.028999\n",
       "SectionsMeanEntropy           -0.040807\n",
       "CheckSum                      -0.043969\n",
       "SectionsMinVirtualsize        -0.046927\n",
       "SectionsMinRawsize            -0.051473\n",
       "Subsystem                     -0.052531\n",
       "DllCharacteristics            -0.127840\n",
       "SectionsMinEntropy            -0.133787\n",
       "MajorLinkerVersion            -0.158834\n",
       "ResourcesMinEntropy           -0.224817\n",
       "Name: ImportsNbDLL, dtype: float64"
      ]
     },
     "execution_count": 15,
     "metadata": {},
     "output_type": "execute_result"
    }
   ],
   "source": [
    "corr_matrix['ImportsNbDLL'].sort_values(ascending=False)"
   ]
  },
  {
   "cell_type": "markdown",
   "metadata": {},
   "source": [
    "ImportsNb"
   ]
  },
  {
   "cell_type": "code",
   "execution_count": 16,
   "metadata": {
    "scrolled": false
   },
   "outputs": [
    {
     "data": {
      "text/plain": [
       "ResourcesMeanEntropy           1.000000\n",
       "ResourcesMaxEntropy            0.744530\n",
       "SectionsMeanEntropy            0.314301\n",
       "SectionsMaxEntropy             0.291935\n",
       "SectionsMinEntropy             0.262915\n",
       "ResourcesMinEntropy            0.230136\n",
       "DllCharacteristics             0.225339\n",
       "MajorLinkerVersion             0.109586\n",
       "ImportsNbDLL                   0.109116\n",
       "MajorSubsystemVersion          0.106605\n",
       "CheckSum                       0.105640\n",
       "SizeOfStackReserve             0.103808\n",
       "SizeOfHeapReserve              0.049432\n",
       "ResourcesNb                    0.036821\n",
       "BaseOfData                     0.030011\n",
       "SectionsMinVirtualsize         0.017549\n",
       "SectionsMinRawsize             0.017204\n",
       "AddressOfEntryPoint            0.016513\n",
       "SectionsMeanVirtualsize        0.009852\n",
       "ResourcesMinSize               0.009332\n",
       "ResourcesMeanSize              0.009116\n",
       "ResourcesMaxSize               0.004836\n",
       "SizeOfImage                    0.004099\n",
       "SectionMaxVirtualsize          0.003987\n",
       "BaseOfCode                     0.003191\n",
       "ImportsNb                      0.002157\n",
       "MajorOperatingSystemVersion    0.001474\n",
       "SizeOfCode                     0.001035\n",
       "LoadConfigurationSize         -0.000043\n",
       "SectionAlignment              -0.001167\n",
       "SectionMaxRawsize             -0.001177\n",
       "SectionsMeanRawsize           -0.001241\n",
       "SizeOfHeaders                 -0.001336\n",
       "ImageBase                     -0.002109\n",
       "SizeOfInitializedData         -0.004131\n",
       "SizeOfUninitializedData       -0.010963\n",
       "MinorImageVersion             -0.011857\n",
       "NumberOfRvaAndSizes           -0.012456\n",
       "MajorImageVersion             -0.012539\n",
       "MinorSubsystemVersion         -0.013428\n",
       "LoaderFlags                   -0.013537\n",
       "SizeOfHeapCommit              -0.013714\n",
       "MinorOperatingSystemVersion   -0.017811\n",
       "ImportsNbOrdinal              -0.019810\n",
       "SectionsNb                    -0.023612\n",
       "SizeOfStackCommit             -0.024297\n",
       "VersionInformationSize        -0.045177\n",
       "MinorLinkerVersion            -0.045304\n",
       "ExportNb                      -0.048722\n",
       "FileAlignment                 -0.066613\n",
       "SizeOfOptionalHeader          -0.093526\n",
       "Machine                       -0.094055\n",
       "Subsystem                     -0.121421\n",
       "Characteristics               -0.130114\n",
       "legitimate                    -0.202432\n",
       "Name: ResourcesMeanEntropy, dtype: float64"
      ]
     },
     "execution_count": 16,
     "metadata": {},
     "output_type": "execute_result"
    }
   ],
   "source": [
    "corr_matrix['ResourcesMeanEntropy'].sort_values(ascending=False)"
   ]
  },
  {
   "cell_type": "markdown",
   "metadata": {},
   "source": [
    "ResoucesMaxEntropy"
   ]
  },
  {
   "cell_type": "code",
   "execution_count": 17,
   "metadata": {},
   "outputs": [],
   "source": [
    "df.drop(columns = ['SizeOfOptionalHeader','SectionsMinEntropy', 'SectionsMaxEntropy','ImportsNb','ResourcesMaxEntropy'], inplace = True)"
   ]
  },
  {
   "cell_type": "code",
   "execution_count": 18,
   "metadata": {},
   "outputs": [
    {
     "data": {
      "image/png": "[encoded data removed]",
      "text/plain": [
       "<Figure size 576x432 with 2 Axes>"
      ]
     },
     "metadata": {
      "needs_background": "light"
     },
     "output_type": "display_data"
    }
   ],
   "source": [
    "fig = plt.figure(figsize=(8,6))\n",
    "sns.heatmap(df.corr(method = 'pearson'), square= True, cmap=\"YlGnBu\")\n",
    "plt.show()"
   ]
  },
  {
   "cell_type": "code",
   "execution_count": 19,
   "metadata": {},
   "outputs": [
    {
     "data": {
      "text/plain": [
       "(138047, 18)"
      ]
     },
     "execution_count": 19,
     "metadata": {},
     "output_type": "execute_result"
    }
   ],
   "source": [
    "df.shape"
   ]
  },
  {
   "cell_type": "markdown",
   "metadata": {},
   "source": [
    "# Scaling and Splitting"
   ]
  },
  {
   "cell_type": "code",
   "execution_count": 20,
   "metadata": {},
   "outputs": [],
   "source": [
    "X = df.iloc[:,:-1].values\n",
    "y = df.iloc[:, -1].values"
   ]
  },
  {
   "cell_type": "code",
   "execution_count": 21,
   "metadata": {},
   "outputs": [
    {
     "data": {
      "text/plain": [
       "array([3.32000000e+02, 3.33000000e+03, 0.00000000e+00, 5.12000000e+02,\n",
       "       5.00000000e+00, 1.88943000e+05, 2.00000000e+00, 3.30880000e+04,\n",
       "       1.04857600e+06, 1.04857600e+06, 4.00000000e+00, 4.83968794e+00,\n",
       "       0.00000000e+00, 0.00000000e+00, 4.25046056e+00, 3.42074425e+00,\n",
       "       1.80000000e+01])"
      ]
     },
     "execution_count": 21,
     "metadata": {},
     "output_type": "execute_result"
    }
   ],
   "source": [
    "X[1]"
   ]
  },
  {
   "cell_type": "code",
   "execution_count": 22,
   "metadata": {},
   "outputs": [],
   "source": [
    "scaler = StandardScaler()\n",
    "X = scaler.fit_transform(X)"
   ]
  },
  {
   "cell_type": "code",
   "execution_count": 23,
   "metadata": {},
   "outputs": [
    {
     "data": {
      "text/plain": [
       "array([-0.36093365, -0.13609132, -0.32195943, -0.14139419,  0.21321804,\n",
       "       -0.30053861, -0.347515  ,  0.69789589,  0.21320177,  0.09142404,\n",
       "       -0.51923852,  0.18380755, -0.1247488 , -0.09391081,  0.22492273,\n",
       "        1.20921317,  0.82909339])"
      ]
     },
     "execution_count": 23,
     "metadata": {},
     "output_type": "execute_result"
    }
   ],
   "source": [
    "X[1]"
   ]
  },
  {
   "cell_type": "code",
   "execution_count": 24,
   "metadata": {
    "scrolled": true
   },
   "outputs": [],
   "source": [
    "sss = StratifiedShuffleSplit(n_splits=2, test_size=0.3, random_state=32)\n",
    "for train_index, test_index in sss.split(X,y):\n",
    "    X_train, X_test = X[train_index], X[test_index]\n",
    "    y_train, y_test = y[train_index], y[test_index]"
   ]
  },
  {
   "cell_type": "markdown",
   "metadata": {},
   "source": [
    "## AdaBoostClassifier"
   ]
  },
  {
   "cell_type": "code",
   "execution_count": 25,
   "metadata": {},
   "outputs": [
    {
     "name": "stdout",
     "output_type": "stream",
     "text": [
      "Accuracy: 0.985548 (0.001)\n"
     ]
    }
   ],
   "source": [
    "abcMalware= AdaBoostClassifier(n_estimators=50, random_state=1)\n",
    "cv = KFold(n_splits=10, shuffle=True, random_state=1)\n",
    "n_scores=cross_val_score(abcMalware, X, y, scoring='accuracy', cv=cv, n_jobs=1, error_score='raise')\n",
    "print('Accuracy: %3f (%.3f)' % (np.mean(n_scores), np.std(n_scores)))"
   ]
  },
  {
   "cell_type": "markdown",
   "metadata": {},
   "source": [
    "### Hyperparameter Tuning"
   ]
  },
  {
   "cell_type": "code",
   "execution_count": 26,
   "metadata": {},
   "outputs": [],
   "source": [
    "##Trying to improve accuracy with turning\n",
    "parameters = {\"learning_rate\": [0.1, 0.01, 0.001],\n",
    "               \"n_estimators\": [100, 250, 500, 1000]}\n",
    "search=RandomizedSearchCV(abcMalware, param_distributions = parameters, scoring = 'accuracy',\n",
    "                             cv = 10, verbose = 3, random_state = 40,n_jobs = 4)"
   ]
  },
  {
   "cell_type": "code",
   "execution_count": 27,
   "metadata": {
    "scrolled": false
   },
   "outputs": [
    {
     "name": "stdout",
     "output_type": "stream",
     "text": [
      "Fitting 10 folds for each of 10 candidates, totalling 100 fits\n"
     ]
    },
    {
     "name": "stderr",
     "output_type": "stream",
     "text": [
      "[Parallel(n_jobs=4)]: Using backend LokyBackend with 4 concurrent workers.\n",
      "[Parallel(n_jobs=4)]: Done  24 tasks      | elapsed: 13.9min\n",
      "[Parallel(n_jobs=4)]: Done 100 out of 100 | elapsed: 45.7min finished\n"
     ]
    }
   ],
   "source": [
    "model_adaboost = search.fit(X, y)"
   ]
  },
  {
   "cell_type": "code",
   "execution_count": 28,
   "metadata": {},
   "outputs": [
    {
     "data": {
      "text/plain": [
       "AdaBoostClassifier(algorithm='SAMME.R', base_estimator=None, learning_rate=0.1,\n",
       "                   n_estimators=250, random_state=0)"
      ]
     },
     "execution_count": 28,
     "metadata": {},
     "output_type": "execute_result"
    }
   ],
   "source": [
    "abc_final = AdaBoostClassifier(random_state=0, n_estimators=model_adaboost.best_params_['n_estimators'],learning_rate=model_adaboost.best_params_['learning_rate'])\n",
    "abc_final.fit(X_train, y_train)"
   ]
  },
  {
   "cell_type": "code",
   "execution_count": 31,
   "metadata": {},
   "outputs": [],
   "source": [
    "y_pred = abc_final.predict(X_test)"
   ]
  },
  {
   "cell_type": "code",
   "execution_count": 33,
   "metadata": {},
   "outputs": [
    {
     "name": "stdout",
     "output_type": "stream",
     "text": [
      "              precision    recall  f1-score   support\n",
      "\n",
      "           0       0.99      0.99      0.99     29018\n",
      "           1       0.99      0.97      0.98     12397\n",
      "\n",
      "    accuracy                           0.99     41415\n",
      "   macro avg       0.99      0.98      0.98     41415\n",
      "weighted avg       0.99      0.99      0.99     41415\n",
      "\n"
     ]
    }
   ],
   "source": [
    "print(metrics.classification_report(y_test,y_pred))"
   ]
  },
  {
   "cell_type": "code",
   "execution_count": 32,
   "metadata": {
    "scrolled": false
   },
   "outputs": [
    {
     "data": {
      "text/plain": [
       "<matplotlib.axes._subplots.AxesSubplot at 0x1a60c916108>"
      ]
     },
     "execution_count": 32,
     "metadata": {},
     "output_type": "execute_result"
    },
    {
     "data": {
      "image/png": "[encoded data removed]",
      "text/plain": [
       "<Figure size 432x288 with 2 Axes>"
      ]
     },
     "metadata": {
      "needs_background": "light"
     },
     "output_type": "display_data"
    }
   ],
   "source": [
    "sns.heatmap(metrics.confusion_matrix(y_test, y_pred), annot=True)"
   ]
  },
  {
   "cell_type": "markdown",
   "metadata": {},
   "source": [
    "## Label Propagation (Semi)"
   ]
  },
  {
   "cell_type": "code",
   "execution_count": 25,
   "metadata": {},
   "outputs": [],
   "source": [
    "semi = LabelSpreading(kernel='rbf', max_iter=20, n_jobs = 4)"
   ]
  },
  {
   "cell_type": "code",
   "execution_count": 26,
   "metadata": {
    "scrolled": true
   },
   "outputs": [
    {
     "ename": "MemoryError",
     "evalue": "Unable to allocate 69.6 GiB for an array with shape (96632, 96632) and data type float64",
     "output_type": "error",
     "traceback": [
      "\u001b[1;31m---------------------------------------------------------------------------\u001b[0m",
      "\u001b[1;31mMemoryError\u001b[0m                               Traceback (most recent call last)",
      "\u001b[1;32m<ipython-input-26-45c039d3270b>\u001b[0m in \u001b[0;36m<module>\u001b[1;34m\u001b[0m\n\u001b[1;32m----> 1\u001b[1;33m \u001b[0msemi\u001b[0m\u001b[1;33m.\u001b[0m\u001b[0mfit\u001b[0m\u001b[1;33m(\u001b[0m\u001b[0mX_train\u001b[0m\u001b[1;33m,\u001b[0m \u001b[0my_train\u001b[0m\u001b[1;33m)\u001b[0m\u001b[1;33m\u001b[0m\u001b[1;33m\u001b[0m\u001b[0m\n\u001b[0m",
      "\u001b[1;32m~\\anaconda3\\lib\\site-packages\\sklearn\\semi_supervised\\_label_propagation.py\u001b[0m in \u001b[0;36mfit\u001b[1;34m(self, X, y)\u001b[0m\n\u001b[0;32m    227\u001b[0m \u001b[1;33m\u001b[0m\u001b[0m\n\u001b[0;32m    228\u001b[0m         \u001b[1;31m# actual graph construction (implementations should override this)\u001b[0m\u001b[1;33m\u001b[0m\u001b[1;33m\u001b[0m\u001b[1;33m\u001b[0m\u001b[0m\n\u001b[1;32m--> 229\u001b[1;33m         \u001b[0mgraph_matrix\u001b[0m \u001b[1;33m=\u001b[0m \u001b[0mself\u001b[0m\u001b[1;33m.\u001b[0m\u001b[0m_build_graph\u001b[0m\u001b[1;33m(\u001b[0m\u001b[1;33m)\u001b[0m\u001b[1;33m\u001b[0m\u001b[1;33m\u001b[0m\u001b[0m\n\u001b[0m\u001b[0;32m    230\u001b[0m \u001b[1;33m\u001b[0m\u001b[0m\n\u001b[0;32m    231\u001b[0m         \u001b[1;31m# label construction\u001b[0m\u001b[1;33m\u001b[0m\u001b[1;33m\u001b[0m\u001b[1;33m\u001b[0m\u001b[0m\n",
      "\u001b[1;32m~\\anaconda3\\lib\\site-packages\\sklearn\\semi_supervised\\_label_propagation.py\u001b[0m in \u001b[0;36m_build_graph\u001b[1;34m(self)\u001b[0m\n\u001b[0;32m    503\u001b[0m             \u001b[0mself\u001b[0m\u001b[1;33m.\u001b[0m\u001b[0mnn_fit\u001b[0m \u001b[1;33m=\u001b[0m \u001b[1;32mNone\u001b[0m\u001b[1;33m\u001b[0m\u001b[1;33m\u001b[0m\u001b[0m\n\u001b[0;32m    504\u001b[0m         \u001b[0mn_samples\u001b[0m \u001b[1;33m=\u001b[0m \u001b[0mself\u001b[0m\u001b[1;33m.\u001b[0m\u001b[0mX_\u001b[0m\u001b[1;33m.\u001b[0m\u001b[0mshape\u001b[0m\u001b[1;33m[\u001b[0m\u001b[1;36m0\u001b[0m\u001b[1;33m]\u001b[0m\u001b[1;33m\u001b[0m\u001b[1;33m\u001b[0m\u001b[0m\n\u001b[1;32m--> 505\u001b[1;33m         \u001b[0maffinity_matrix\u001b[0m \u001b[1;33m=\u001b[0m \u001b[0mself\u001b[0m\u001b[1;33m.\u001b[0m\u001b[0m_get_kernel\u001b[0m\u001b[1;33m(\u001b[0m\u001b[0mself\u001b[0m\u001b[1;33m.\u001b[0m\u001b[0mX_\u001b[0m\u001b[1;33m)\u001b[0m\u001b[1;33m\u001b[0m\u001b[1;33m\u001b[0m\u001b[0m\n\u001b[0m\u001b[0;32m    506\u001b[0m         \u001b[0mlaplacian\u001b[0m \u001b[1;33m=\u001b[0m \u001b[0mcsgraph\u001b[0m\u001b[1;33m.\u001b[0m\u001b[0mlaplacian\u001b[0m\u001b[1;33m(\u001b[0m\u001b[0maffinity_matrix\u001b[0m\u001b[1;33m,\u001b[0m \u001b[0mnormed\u001b[0m\u001b[1;33m=\u001b[0m\u001b[1;32mTrue\u001b[0m\u001b[1;33m)\u001b[0m\u001b[1;33m\u001b[0m\u001b[1;33m\u001b[0m\u001b[0m\n\u001b[0;32m    507\u001b[0m         \u001b[0mlaplacian\u001b[0m \u001b[1;33m=\u001b[0m \u001b[1;33m-\u001b[0m\u001b[0mlaplacian\u001b[0m\u001b[1;33m\u001b[0m\u001b[1;33m\u001b[0m\u001b[0m\n",
      "\u001b[1;32m~\\anaconda3\\lib\\site-packages\\sklearn\\semi_supervised\\_label_propagation.py\u001b[0m in \u001b[0;36m_get_kernel\u001b[1;34m(self, X, y)\u001b[0m\n\u001b[0;32m    125\u001b[0m         \u001b[1;32mif\u001b[0m \u001b[0mself\u001b[0m\u001b[1;33m.\u001b[0m\u001b[0mkernel\u001b[0m \u001b[1;33m==\u001b[0m \u001b[1;34m\"rbf\"\u001b[0m\u001b[1;33m:\u001b[0m\u001b[1;33m\u001b[0m\u001b[1;33m\u001b[0m\u001b[0m\n\u001b[0;32m    126\u001b[0m             \u001b[1;32mif\u001b[0m \u001b[0my\u001b[0m \u001b[1;32mis\u001b[0m \u001b[1;32mNone\u001b[0m\u001b[1;33m:\u001b[0m\u001b[1;33m\u001b[0m\u001b[1;33m\u001b[0m\u001b[0m\n\u001b[1;32m--> 127\u001b[1;33m                 \u001b[1;32mreturn\u001b[0m \u001b[0mrbf_kernel\u001b[0m\u001b[1;33m(\u001b[0m\u001b[0mX\u001b[0m\u001b[1;33m,\u001b[0m \u001b[0mX\u001b[0m\u001b[1;33m,\u001b[0m \u001b[0mgamma\u001b[0m\u001b[1;33m=\u001b[0m\u001b[0mself\u001b[0m\u001b[1;33m.\u001b[0m\u001b[0mgamma\u001b[0m\u001b[1;33m)\u001b[0m\u001b[1;33m\u001b[0m\u001b[1;33m\u001b[0m\u001b[0m\n\u001b[0m\u001b[0;32m    128\u001b[0m             \u001b[1;32melse\u001b[0m\u001b[1;33m:\u001b[0m\u001b[1;33m\u001b[0m\u001b[1;33m\u001b[0m\u001b[0m\n\u001b[0;32m    129\u001b[0m                 \u001b[1;32mreturn\u001b[0m \u001b[0mrbf_kernel\u001b[0m\u001b[1;33m(\u001b[0m\u001b[0mX\u001b[0m\u001b[1;33m,\u001b[0m \u001b[0my\u001b[0m\u001b[1;33m,\u001b[0m \u001b[0mgamma\u001b[0m\u001b[1;33m=\u001b[0m\u001b[0mself\u001b[0m\u001b[1;33m.\u001b[0m\u001b[0mgamma\u001b[0m\u001b[1;33m)\u001b[0m\u001b[1;33m\u001b[0m\u001b[1;33m\u001b[0m\u001b[0m\n",
      "\u001b[1;32m~\\anaconda3\\lib\\site-packages\\sklearn\\metrics\\pairwise.py\u001b[0m in \u001b[0;36mrbf_kernel\u001b[1;34m(X, Y, gamma)\u001b[0m\n\u001b[0;32m   1090\u001b[0m         \u001b[0mgamma\u001b[0m \u001b[1;33m=\u001b[0m \u001b[1;36m1.0\u001b[0m \u001b[1;33m/\u001b[0m \u001b[0mX\u001b[0m\u001b[1;33m.\u001b[0m\u001b[0mshape\u001b[0m\u001b[1;33m[\u001b[0m\u001b[1;36m1\u001b[0m\u001b[1;33m]\u001b[0m\u001b[1;33m\u001b[0m\u001b[1;33m\u001b[0m\u001b[0m\n\u001b[0;32m   1091\u001b[0m \u001b[1;33m\u001b[0m\u001b[0m\n\u001b[1;32m-> 1092\u001b[1;33m     \u001b[0mK\u001b[0m \u001b[1;33m=\u001b[0m \u001b[0meuclidean_distances\u001b[0m\u001b[1;33m(\u001b[0m\u001b[0mX\u001b[0m\u001b[1;33m,\u001b[0m \u001b[0mY\u001b[0m\u001b[1;33m,\u001b[0m \u001b[0msquared\u001b[0m\u001b[1;33m=\u001b[0m\u001b[1;32mTrue\u001b[0m\u001b[1;33m)\u001b[0m\u001b[1;33m\u001b[0m\u001b[1;33m\u001b[0m\u001b[0m\n\u001b[0m\u001b[0;32m   1093\u001b[0m     \u001b[0mK\u001b[0m \u001b[1;33m*=\u001b[0m \u001b[1;33m-\u001b[0m\u001b[0mgamma\u001b[0m\u001b[1;33m\u001b[0m\u001b[1;33m\u001b[0m\u001b[0m\n\u001b[0;32m   1094\u001b[0m     \u001b[0mnp\u001b[0m\u001b[1;33m.\u001b[0m\u001b[0mexp\u001b[0m\u001b[1;33m(\u001b[0m\u001b[0mK\u001b[0m\u001b[1;33m,\u001b[0m \u001b[0mK\u001b[0m\u001b[1;33m)\u001b[0m  \u001b[1;31m# exponentiate K in-place\u001b[0m\u001b[1;33m\u001b[0m\u001b[1;33m\u001b[0m\u001b[0m\n",
      "\u001b[1;32m~\\anaconda3\\lib\\site-packages\\sklearn\\metrics\\pairwise.py\u001b[0m in \u001b[0;36meuclidean_distances\u001b[1;34m(X, Y, Y_norm_squared, squared, X_norm_squared)\u001b[0m\n\u001b[0;32m    301\u001b[0m     \u001b[1;32melse\u001b[0m\u001b[1;33m:\u001b[0m\u001b[1;33m\u001b[0m\u001b[1;33m\u001b[0m\u001b[0m\n\u001b[0;32m    302\u001b[0m         \u001b[1;31m# if dtype is already float64, no need to chunk and upcast\u001b[0m\u001b[1;33m\u001b[0m\u001b[1;33m\u001b[0m\u001b[1;33m\u001b[0m\u001b[0m\n\u001b[1;32m--> 303\u001b[1;33m         \u001b[0mdistances\u001b[0m \u001b[1;33m=\u001b[0m \u001b[1;33m-\u001b[0m \u001b[1;36m2\u001b[0m \u001b[1;33m*\u001b[0m \u001b[0msafe_sparse_dot\u001b[0m\u001b[1;33m(\u001b[0m\u001b[0mX\u001b[0m\u001b[1;33m,\u001b[0m \u001b[0mY\u001b[0m\u001b[1;33m.\u001b[0m\u001b[0mT\u001b[0m\u001b[1;33m,\u001b[0m \u001b[0mdense_output\u001b[0m\u001b[1;33m=\u001b[0m\u001b[1;32mTrue\u001b[0m\u001b[1;33m)\u001b[0m\u001b[1;33m\u001b[0m\u001b[1;33m\u001b[0m\u001b[0m\n\u001b[0m\u001b[0;32m    304\u001b[0m         \u001b[0mdistances\u001b[0m \u001b[1;33m+=\u001b[0m \u001b[0mXX\u001b[0m\u001b[1;33m\u001b[0m\u001b[1;33m\u001b[0m\u001b[0m\n\u001b[0;32m    305\u001b[0m         \u001b[0mdistances\u001b[0m \u001b[1;33m+=\u001b[0m \u001b[0mYY\u001b[0m\u001b[1;33m\u001b[0m\u001b[1;33m\u001b[0m\u001b[0m\n",
      "\u001b[1;32m~\\anaconda3\\lib\\site-packages\\sklearn\\utils\\extmath.py\u001b[0m in \u001b[0;36msafe_sparse_dot\u001b[1;34m(a, b, dense_output)\u001b[0m\n\u001b[0;32m    149\u001b[0m             \u001b[0mret\u001b[0m \u001b[1;33m=\u001b[0m \u001b[0mnp\u001b[0m\u001b[1;33m.\u001b[0m\u001b[0mdot\u001b[0m\u001b[1;33m(\u001b[0m\u001b[0ma\u001b[0m\u001b[1;33m,\u001b[0m \u001b[0mb\u001b[0m\u001b[1;33m)\u001b[0m\u001b[1;33m\u001b[0m\u001b[1;33m\u001b[0m\u001b[0m\n\u001b[0;32m    150\u001b[0m     \u001b[1;32melse\u001b[0m\u001b[1;33m:\u001b[0m\u001b[1;33m\u001b[0m\u001b[1;33m\u001b[0m\u001b[0m\n\u001b[1;32m--> 151\u001b[1;33m         \u001b[0mret\u001b[0m \u001b[1;33m=\u001b[0m \u001b[0ma\u001b[0m \u001b[1;33m@\u001b[0m \u001b[0mb\u001b[0m\u001b[1;33m\u001b[0m\u001b[1;33m\u001b[0m\u001b[0m\n\u001b[0m\u001b[0;32m    152\u001b[0m \u001b[1;33m\u001b[0m\u001b[0m\n\u001b[0;32m    153\u001b[0m     if (sparse.issparse(a) and sparse.issparse(b)\n",
      "\u001b[1;31mMemoryError\u001b[0m: Unable to allocate 69.6 GiB for an array with shape (96632, 96632) and data type float64"
     ]
    }
   ],
   "source": [
    "semi.fit(X_train, y_train)"
   ]
  },
  {
   "cell_type": "code",
   "execution_count": null,
   "metadata": {},
   "outputs": [],
   "source": [
    "y_pred = semi.predit(X_test)"
   ]
  },
  {
   "cell_type": "code",
   "execution_count": null,
   "metadata": {},
   "outputs": [],
   "source": [
    "print(metrics.classification_report(y_test,y_pred))"
   ]
  },
  {
   "cell_type": "code",
   "execution_count": null,
   "metadata": {},
   "outputs": [],
   "source": [
    "sns.heatmap(metrics.confusion_matrix(y_test, y_pred), annot=True)"
   ]
  },
  {
   "cell_type": "markdown",
   "metadata": {},
   "source": [
    "## DBScan (Unsupervised)"
   ]
  },
  {
   "cell_type": "code",
   "execution_count": 36,
   "metadata": {},
   "outputs": [],
   "source": [
    "X_dbscan = X_train.copy()\n",
    "labels_true = y_train.copy()"
   ]
  },
  {
   "cell_type": "code",
   "execution_count": null,
   "metadata": {},
   "outputs": [],
   "source": [
    "db = DBSCAN(eps = 2, min_samples=50).fit(X_dbscan)\n",
    "core_samples_mask = np.zeros_like(db.labels_, dtype = bool)\n",
    "core_samples_mask[db.core_sample_indices_] =True\n",
    "labels = db.labels_"
   ]
  },
  {
   "cell_type": "code",
   "execution_count": null,
   "metadata": {},
   "outputs": [],
   "source": [
    "n_clusters_ = len(set(labels)) - (1 if -1 in labels else 0)\n",
    "n_noise_ = list(labels).count(-1)\n",
    "print(n_clusters_)"
   ]
  },
  {
   "cell_type": "code",
   "execution_count": null,
   "metadata": {},
   "outputs": [],
   "source": [
    "print('Estimated number of clusters: %d' % n_clusters_)\n",
    "print('Estimated number of noise points: %d' % n_noise_)\n",
    "print(\"Homogeneity: %0.3f\" % metrics.homogeneity_score(labels_true, labels))\n",
    "print(\"Completeness: %0.3f\" % metrics.completeness_score(labels_true, labels))\n",
    "print(\"V-measure: %0.3f\" % metrics.v_measure_score(labels_true, labels))\n",
    "print(\"Adjusted Rand Index: %0.3f\"\n",
    "      % metrics.adjusted_rand_score(labels_true, labels))\n",
    "print(\"Adjusted Mutual Information: %0.3f\"\n",
    "      % metrics.adjusted_mutual_info_score(labels_true, labels))"
   ]
  },
  {
   "cell_type": "code",
   "execution_count": null,
   "metadata": {},
   "outputs": [],
   "source": [
    "y_pred = db.fit_predict(X)\n",
    "plt.scatter(X[:,0], X[:,1],c=y_pred, cmap='Paired')\n",
    "plt.title(\"DBSCAN\")"
   ]
  }
 ],
 "metadata": {
  "kernelspec": {
   "display_name": "Python 3",
   "language": "python",
   "name": "python3"
  },
  "language_info": {
   "codemirror_mode": {
    "name": "ipython",
    "version": 3
   },
   "file_extension": ".py",
   "mimetype": "text/x-python",
   "name": "python",
   "nbconvert_exporter": "python",
   "pygments_lexer": "ipython3",
   "version": "3.7.6"
  }
 },
 "nbformat": 4,
 "nbformat_minor": 4
}
